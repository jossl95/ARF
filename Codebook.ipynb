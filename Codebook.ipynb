{
 "cells": [
  {
   "cell_type": "markdown",
   "metadata": {},
   "source": [
    "# Codebook"
   ]
  },
  {
   "cell_type": "code",
   "execution_count": 2,
   "metadata": {
    "slideshow": {
     "slide_type": "skip"
    }
   },
   "outputs": [],
   "source": [
    "import pandas as pd\n",
    "import os\n",
    "import numpy as np\n",
    "import matplotlib.pyplot as plt"
   ]
  },
  {
   "cell_type": "code",
   "execution_count": 5,
   "metadata": {
    "code_folding": [],
    "slideshow": {
     "slide_type": "skip"
    }
   },
   "outputs": [],
   "source": [
    "MAINDIR = os.getcwd().rsplit('/', 1)[0]\n",
    "file = os.path.join(MAINDIR, 'data/analysis', 'vendor_week.pickle')\n",
    "df = pd.read_pickle(file)\\\n",
    "    .drop(['cum_count'], axis = 1)"
   ]
  },
  {
   "cell_type": "markdown",
   "metadata": {},
   "source": [
    "## Vendor\n",
    "\n",
    "### Vendor characteristics\n",
    "* `vendor` : a anonymized numeric identifier as created as a factorized score of unique vendor nicknames.\n",
    "* `m_max` : number of months after market opening at which a seller has entered the market.\n",
    "* `category_count` : number of categories in which the vendor has offered products in total.\n",
    "* `item_count` : number of unique items that the vendor has offered in total.\n",
    "* `arf` : seller was identified to have used ARF at market entry.\n",
    "* `arf_bgm` : seller was indentified to have used ARF at market entry by cluster analysis.\n"
   ]
  },
  {
   "cell_type": "code",
   "execution_count": 7,
   "metadata": {
    "code_folding": []
   },
   "outputs": [
    {
     "name": "stdout",
     "output_type": "stream",
     "text": [
      "<class 'pandas.core.frame.DataFrame'>\n",
      "RangeIndex: 902 entries, 0 to 901\n",
      "Data columns (total 4 columns):\n",
      " #   Column          Non-Null Count  Dtype\n",
      "---  ------          --------------  -----\n",
      " 0   vendor          902 non-null    int64\n",
      " 1   category_count  902 non-null    int64\n",
      " 2   item_count      902 non-null    int64\n",
      " 3   arf             902 non-null    bool \n",
      "dtypes: bool(1), int64(3)\n",
      "memory usage: 22.1 KB\n",
      "None \n",
      "\n",
      "DESCRIPTIVE STATISTICS:\n",
      "                   count     mean      std    min      max\n",
      "vendor          902.000  452.620  261.159  1.000  905.000\n",
      "category_count  902.000    3.278    1.817  1.000   10.000\n",
      "item_count      902.000   27.571   47.462  1.000  731.000\n",
      "arf             902.000    0.114    0.318  0.000    1.000\n"
     ]
    }
   ],
   "source": [
    "VENDOR_CHAR = ['vendor', 'category_count', 'item_count', 'arf']\n",
    "DESC = ['count', 'mean', 'std', 'min', 'max']\n",
    "\n",
    "print(df[VENDOR_CHAR]\\\n",
    "          .groupby('vendor').max()\\\n",
    "          .reset_index().info(), '\\n')\n",
    "print('DESCRIPTIVE STATISTICS:\\n',\n",
    "      df[VENDOR_CHAR]\\\n",
    "          .groupby('vendor').max()\\\n",
    "          .reset_index()\\\n",
    "          .astype({'arf' : int})\\\n",
    "          .describe()\\\n",
    "          .T[DESC]\\\n",
    "          .applymap('{:.3f}'.format))"
   ]
  },
  {
   "cell_type": "markdown",
   "metadata": {},
   "source": [
    "### Time varying variables\n",
    "* `w` : denotes the weeks since the 11th sale in the market (post market entry phase) per vendor per week `[1:51]`. \n",
    "* `rating_m` : the average rating score calculated as a rolling mean per vendor per week.\n",
    "* `reputation_m` : the average of the market provided reputation score per vendor per week.\n",
    "* `price_usd_m` : the average price of the of all products sold per vendor per week.\n",
    "* `delta_t_m` : the average time gaps between feedbacks per vendor per week.\n",
    "* `neg_rating_m` : the proportion of negative ratings per vendor per week.\n",
    "* `count_min` : the number of sales per vendor at the beginning of the week. \n",
    "* `neg_count_min` : the number of negative feedbacks per vendor at the beginning of the week.\n",
    "* `pos_count_min` : the number of positive feedbacks per vendor at the beginning of the week. \n",
    "* `price_usd_s` : the standard deviation in selling prices of all products sold per vendor per week.\n",
    "* `delta_t_m` : the standard deviation in selling prices of all products sold per vendor per week.\n",
    "* `item_count_w` : the number of unique items on offer per vendor per week.\n",
    "* `category_count_w`: the number of categories in which a the vendor offers products in per week.\n",
    "* `price_diff_mw` : average proportional change in selling price per item per vendor per week.\n",
    "* `arm_maxw` : vendor was identified to have used ARM in that week.\n",
    "* `arm_bgm_maxw` : vendor was identified to have used ARM in that week by cluster analysis.\n",
    "* `empty_stock_last_week` : vendor was identified to have had an empty stock last week.\n",
    "* `has_price_drop` : vendor was identified to have lowered the selling price of an item with more than 10 percent per week"
   ]
  },
  {
   "cell_type": "code",
   "execution_count": 10,
   "metadata": {
    "code_folding": []
   },
   "outputs": [
    {
     "name": "stdout",
     "output_type": "stream",
     "text": [
      "<class 'pandas.core.frame.DataFrame'>\n",
      "RangeIndex: 22777 entries, 0 to 22776\n",
      "Data columns (total 18 columns):\n",
      " #   Column                      Non-Null Count  Dtype  \n",
      "---  ------                      --------------  -----  \n",
      " 0   w                           22777 non-null  int64  \n",
      " 1   rating_m                    22777 non-null  float64\n",
      " 2   reputation_m                22777 non-null  float64\n",
      " 3   price_usd_m                 22777 non-null  float64\n",
      " 4   delta_t_m                   22777 non-null  float64\n",
      " 5   neg_rating_m                22777 non-null  float64\n",
      " 6   count_min                   22777 non-null  int64  \n",
      " 7   neg_count_min               22777 non-null  float64\n",
      " 8   pos_count_min               22777 non-null  float64\n",
      " 9   price_usd_s                 22777 non-null  float64\n",
      " 10  delta_t_s                   22777 non-null  float64\n",
      " 11  item_count_w                22777 non-null  int64  \n",
      " 12  category_count_w            22777 non-null  int64  \n",
      " 13  price_diff_mw               22748 non-null  float64\n",
      " 14  arm_maxw                    22777 non-null  bool   \n",
      " 15  international_shipment      22777 non-null  bool   \n",
      " 16  empty_stock_last_week_maxw  22777 non-null  bool   \n",
      " 17  has_price_drop              22777 non-null  bool   \n",
      "dtypes: bool(4), float64(10), int64(4)\n",
      "memory usage: 2.5 MB\n",
      "None \n",
      "\n",
      "DESCRIPTIVE STATISTICS:\n",
      "                                 count      mean        std    min         max\n",
      "w                           22777.000    20.587     12.729  2.000      51.000\n",
      "rating_m                    22777.000     4.860      0.496  1.000       5.000\n",
      "reputation_m                22777.000    66.218     39.223  0.000      99.000\n",
      "price_usd_m                 22395.000  3650.589  33996.130  0.000  970554.207\n",
      "delta_t_m                   22777.000     1.016      5.009  0.000     208.000\n",
      "neg_rating_m                22777.000     0.036      0.053  0.000       1.026\n",
      "count_min                   22777.000  2364.813   9979.164  2.000  392870.000\n",
      "neg_count_min               22777.000    68.178    246.065  1.000    3960.000\n",
      "pos_count_min               22777.000  2166.410   8359.343  1.000  312104.000\n",
      "price_usd_s                 22356.000  5120.680  40057.197  0.000  983921.501\n",
      "delta_t_s                   22777.000     0.534      3.008  0.000     148.667\n",
      "item_count_w                22777.000    12.837     31.916  1.000     628.000\n",
      "category_count_w            22777.000     2.366      1.455  1.000      10.000\n",
      "price_diff_mw               22716.000   332.058  11496.043  0.000  789459.139\n",
      "international_shipment      22777.000     0.638      0.481  0.000       1.000\n",
      "empty_stock_last_week_maxw  22777.000     0.106      0.308  0.000       1.000\n",
      "has_price_drop              22777.000     0.104      0.305  0.000       1.000\n"
     ]
    }
   ],
   "source": [
    "TIME_VARYING = ['w', 'rating_m', 'reputation_m', 'price_usd_m', 'delta_t_m', \n",
    "                'neg_rating_m', 'count_min', 'neg_count_min', 'pos_count_min',\n",
    "                'price_usd_s', 'delta_t_s', 'item_count_w', 'category_count_w',\n",
    "                'price_diff_mw', 'arm_maxw', 'international_shipment',\n",
    "                'empty_stock_last_week_maxw', 'has_price_drop']\n",
    "\n",
    "print(df[TIME_VARYING].info(), '\\n')\n",
    "print('DESCRIPTIVE STATISTICS:\\n',\n",
    "      df[TIME_VARYING]\\\n",
    "          .assign(price_usd_s = df['price_usd_s'].mask(df['price_usd_s'] > 10e5),\n",
    "                  price_usd_m = df['price_usd_m'].mask(df['price_usd_m'] > 10e5),\n",
    "                  price_diff_mw = df['price_diff_mw'].mask((df['price_diff_mw'].isin([np.nan, np.inf]))\\\n",
    "                                                           | (df['price_diff_mw'] > 10e5)))\n",
    "          .astype({'has_price_drop': int,\n",
    "             'empty_stock_last_week_maxw': int,\n",
    "             'international_shipment': int})\\\n",
    "          .describe()\\\n",
    "          .T[DESC]\\\n",
    "          .applymap('{:.3f}'.format))"
   ]
  }
 ],
 "metadata": {
  "celltoolbar": "Slideshow",
  "kernelspec": {
   "display_name": "Python 3",
   "language": "python",
   "name": "python3"
  },
  "language_info": {
   "codemirror_mode": {
    "name": "ipython",
    "version": 3
   },
   "file_extension": ".py",
   "mimetype": "text/x-python",
   "name": "python",
   "nbconvert_exporter": "python",
   "pygments_lexer": "ipython3",
   "version": "3.7.3"
  },
  "varInspector": {
   "cols": {
    "lenName": 16,
    "lenType": 16,
    "lenVar": 40
   },
   "kernels_config": {
    "python": {
     "delete_cmd_postfix": "",
     "delete_cmd_prefix": "del ",
     "library": "var_list.py",
     "varRefreshCmd": "print(var_dic_list())"
    },
    "r": {
     "delete_cmd_postfix": ") ",
     "delete_cmd_prefix": "rm(",
     "library": "var_list.r",
     "varRefreshCmd": "cat(var_dic_list()) "
    }
   },
   "types_to_exclude": [
    "module",
    "function",
    "builtin_function_or_method",
    "instance",
    "_Feature"
   ],
   "window_display": false
  }
 },
 "nbformat": 4,
 "nbformat_minor": 2
}
