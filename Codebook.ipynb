{
 "cells": [
  {
   "cell_type": "code",
   "execution_count": 1,
   "metadata": {
    "slideshow": {
     "slide_type": "skip"
    }
   },
   "outputs": [],
   "source": [
    "import pandas as pd\n",
    "import os\n",
    "import numpy as np\n",
    "import matplotlib.pyplot as plt"
   ]
  },
  {
   "cell_type": "code",
   "execution_count": 2,
   "metadata": {
    "code_folding": [],
    "slideshow": {
     "slide_type": "skip"
    }
   },
   "outputs": [],
   "source": [
    "PATH = \"/Volumes/Extreme SSD/data/analysis\"\n",
    "file = os.path.join(PATH, 'vendor_week.pickle')\n",
    "df = pd.read_pickle(file)\\\n",
    "    .drop(['cum_count', 'rtime_dt_min'], axis = 1)"
   ]
  },
  {
   "cell_type": "markdown",
   "metadata": {},
   "source": [
    "## Vendor\n",
    "\n",
    "### Vendor characteristics\n",
    "* `vendor` : a anonymized numeric identifier `[1:1040]` as created as a factorized score of unique vendor nicknames.\n",
    "* `m_max` : number of months after market opening at which a seller has entered the market.\n",
    "* `category_count` : number of categories in which the vendor has offered products in total.\n",
    "* `item_count` : number of unique items that the vendor has offered in total.\n",
    "* `arf` : seller was identified to have used ARF at market entry.\n",
    "* `arf_bgm` : seller was indentified to have used ARF at market entry by cluster analysis.\n"
   ]
  },
  {
   "cell_type": "code",
   "execution_count": 3,
   "metadata": {
    "code_folding": [
     3,
     6
    ]
   },
   "outputs": [
    {
     "name": "stdout",
     "output_type": "stream",
     "text": [
      "<class 'pandas.core.frame.DataFrame'>\n",
      "RangeIndex: 1040 entries, 0 to 1039\n",
      "Data columns (total 6 columns):\n",
      " #   Column          Non-Null Count  Dtype\n",
      "---  ------          --------------  -----\n",
      " 0   vendor          1040 non-null   int64\n",
      " 1   m_maxw          1040 non-null   int64\n",
      " 2   category_count  1040 non-null   int64\n",
      " 3   item_count      1040 non-null   int64\n",
      " 4   arf             1040 non-null   bool \n",
      " 5   arf_bgm         1040 non-null   bool \n",
      "dtypes: bool(2), int64(4)\n",
      "memory usage: 34.7 KB\n",
      "None \n",
      "\n",
      "DESCRIPTIVE STATISTICS:\n",
      "                    count     mean      std    min       max\n",
      "vendor          1040.000  520.500  300.366  1.000  1040.000\n",
      "m_maxw          1040.000    3.533    3.198  1.000    12.000\n",
      "category_count  1040.000    3.203    1.819  1.000    10.000\n",
      "item_count      1040.000   26.572   45.095  1.000   731.000\n",
      "arf             1040.000    0.046    0.210  0.000     1.000\n",
      "arf_bgm         1040.000    0.203    0.402  0.000     1.000\n"
     ]
    }
   ],
   "source": [
    "VENDOR_CHAR = ['vendor', 'm_maxw', 'category_count', 'item_count', 'arf', 'arf_bgm']\n",
    "DESC = ['count', 'mean', 'std', 'min', 'max']\n",
    "\n",
    "print(df[VENDOR_CHAR]\\\n",
    "          .groupby('vendor').max()\\\n",
    "          .reset_index().info(), '\\n')\n",
    "print('DESCRIPTIVE STATISTICS:\\n',\n",
    "      df[VENDOR_CHAR]\\\n",
    "          .groupby('vendor').max()\\\n",
    "          .reset_index()\\\n",
    "          .astype({'arf' : int, 'arf_bgm' : int})\\\n",
    "          .describe()\\\n",
    "          .T[DESC]\\\n",
    "          .applymap('{:.3f}'.format))"
   ]
  },
  {
   "cell_type": "markdown",
   "metadata": {},
   "source": [
    "### Time varying variables\n",
    "* `w` : denotes the weeks since the 11th sale in the market (post market entry phase) per vendor per week `[1:51]`. \n",
    "* `rating_m` : the average rating score calculated as a rolling mean per vendor per week.\n",
    "* `reputation_m` : the average of the market provided reputation score per vendor per week.\n",
    "* `price_usd_m` : the average price of the of all products sold per vendor per week.\n",
    "* `delta_t_m` : the average time gaps between feedbacks per vendor per week.\n",
    "* `neg_rating_m` : the proportion of negative ratings per vendor per week.\n",
    "* `count_min` : the number of sales per vendor at the beginning of the week. \n",
    "* `neg_count_min` : the number of negative feedbacks per vendor at the beginning of the week.\n",
    "* `pos_count_min` : the number of positive feedbacks per vendor at the beginning of the week. \n",
    "* `price_usd_s` : the standard deviation in selling prices of all products sold per vendor per week.\n",
    "* `delta_t_m` : the standard deviation in selling prices of all products sold per vendor per week.\n",
    "* `item_count_w` : the number of unique items on offer per vendor per week.\n",
    "* `category_count_w`: the number of categories in which a the vendor offers products in per week.\n",
    "* `price_diff_mw` : average proportional change in selling price per item per vendor per week.\n",
    "* `arm_maxw` : vendor was identified to have used ARM in that week.\n",
    "* `arm_bgm_maxw` : vendor was identified to have used ARM in that week by cluster analysis.\n",
    "* `empty_stock_last_week` : vendor was identified to have had an empty stock last week.\n",
    "* `has_price_drop` : vendor was identified to have lowered the selling price of an item with more than 10 percent per week"
   ]
  },
  {
   "cell_type": "code",
   "execution_count": 4,
   "metadata": {
    "code_folding": [
     7
    ]
   },
   "outputs": [
    {
     "name": "stdout",
     "output_type": "stream",
     "text": [
      "<class 'pandas.core.frame.DataFrame'>\n",
      "RangeIndex: 24551 entries, 0 to 24550\n",
      "Data columns (total 19 columns):\n",
      " #   Column                      Non-Null Count  Dtype  \n",
      "---  ------                      --------------  -----  \n",
      " 0   w                           24551 non-null  int64  \n",
      " 1   rating_m                    24551 non-null  float64\n",
      " 2   reputation_m                24551 non-null  float64\n",
      " 3   price_usd_m                 24551 non-null  float64\n",
      " 4   delta_t_m                   24551 non-null  float64\n",
      " 5   neg_rating_m                24551 non-null  float64\n",
      " 6   count_min                   24551 non-null  int64  \n",
      " 7   neg_count_min               24551 non-null  float64\n",
      " 8   pos_count_min               24551 non-null  float64\n",
      " 9   price_usd_s                 24551 non-null  float64\n",
      " 10  delta_t_s                   24551 non-null  float64\n",
      " 11  item_count_w                24551 non-null  int64  \n",
      " 12  category_count_w            24551 non-null  int64  \n",
      " 13  price_diff_mw               24551 non-null  float64\n",
      " 14  arm_maxw                    24551 non-null  bool   \n",
      " 15  arm_bgm_maxw                24551 non-null  bool   \n",
      " 16  international_shipment      24551 non-null  bool   \n",
      " 17  empty_stock_last_week_maxw  24551 non-null  bool   \n",
      " 18  has_price_drop              24551 non-null  bool   \n",
      "dtypes: bool(5), float64(10), int64(4)\n",
      "memory usage: 2.7 MB\n",
      "None \n",
      "\n",
      "DESCRIPTIVE STATISTICS:\n",
      "                                 count      mean        std    min         max\n",
      "w                           24551.000    19.343     13.074  1.000      51.000\n",
      "rating_m                    24551.000     4.868      0.483  1.000       5.000\n",
      "reputation_m                24551.000    66.051     39.226  0.000      99.000\n",
      "price_usd_m                 24155.000  3552.559  33133.377  0.000  970554.207\n",
      "delta_t_m                   24551.000     0.977      4.845  0.000     208.000\n",
      "neg_rating_m                24551.000     0.037      0.055  0.000       1.049\n",
      "count_min                   24551.000  2218.152   9631.221  1.000  392870.000\n",
      "neg_count_min               24551.000    63.404    237.631  1.000    3960.000\n",
      "pos_count_min               24551.000  2034.761   8071.385  1.000  312104.000\n",
      "price_usd_s                 24114.000  5026.351  39942.950  0.000  988935.602\n",
      "delta_t_s                   24551.000     0.511      2.907  0.000     148.667\n",
      "item_count_w                24551.000    12.778     31.167  1.000     628.000\n",
      "category_count_w            24551.000     2.368      1.460  1.000      10.000\n",
      "price_diff_mw               24489.000   308.118  11072.384  0.000  789459.139\n",
      "arm_maxw                    24551.000     0.045      0.208  0.000       1.000\n",
      "international_shipment      24551.000     0.637      0.481  0.000       1.000\n",
      "empty_stock_last_week_maxw  24551.000     0.102      0.302  0.000       1.000\n",
      "has_price_drop              24551.000     0.100      0.300  0.000       1.000\n"
     ]
    }
   ],
   "source": [
    "TIME_VARYING = ['w', 'rating_m', 'reputation_m', 'price_usd_m', 'delta_t_m', \n",
    "                'neg_rating_m', 'count_min', 'neg_count_min', 'pos_count_min',\n",
    "                'price_usd_s', 'delta_t_s', 'item_count_w', 'category_count_w',\n",
    "                'price_diff_mw', 'arm_maxw', 'arm_bgm_maxw', 'international_shipment',\n",
    "                'empty_stock_last_week_maxw', 'has_price_drop']\n",
    "\n",
    "print(df[TIME_VARYING].info(), '\\n')\n",
    "print('DESCRIPTIVE STATISTICS:\\n',\n",
    "      df[TIME_VARYING]\\\n",
    "          .assign(price_usd_s = df['price_usd_s'].mask(df['price_usd_s'] > 10e5),\n",
    "                  price_usd_m = df['price_usd_m'].mask(df['price_usd_m'] > 10e5),\n",
    "                  price_diff_mw = df['price_diff_mw'].mask((df['price_diff_mw'].isin([np.nan, np.inf]))\\\n",
    "                                                           | (df['price_diff_mw'] > 10e5)))\n",
    "          .astype({'has_price_drop': int,\n",
    "             'empty_stock_last_week_maxw': int,\n",
    "             'arm_maxw': int,\n",
    "             'international_shipment': int})\\\n",
    "          .describe()\\\n",
    "          .T[DESC]\\\n",
    "          .applymap('{:.3f}'.format))"
   ]
  }
 ],
 "metadata": {
  "celltoolbar": "Slideshow",
  "kernelspec": {
   "display_name": "Python 3",
   "language": "python",
   "name": "python3"
  },
  "language_info": {
   "codemirror_mode": {
    "name": "ipython",
    "version": 3
   },
   "file_extension": ".py",
   "mimetype": "text/x-python",
   "name": "python",
   "nbconvert_exporter": "python",
   "pygments_lexer": "ipython3",
   "version": "3.7.3"
  },
  "varInspector": {
   "cols": {
    "lenName": 16,
    "lenType": 16,
    "lenVar": 40
   },
   "kernels_config": {
    "python": {
     "delete_cmd_postfix": "",
     "delete_cmd_prefix": "del ",
     "library": "var_list.py",
     "varRefreshCmd": "print(var_dic_list())"
    },
    "r": {
     "delete_cmd_postfix": ") ",
     "delete_cmd_prefix": "rm(",
     "library": "var_list.r",
     "varRefreshCmd": "cat(var_dic_list()) "
    }
   },
   "types_to_exclude": [
    "module",
    "function",
    "builtin_function_or_method",
    "instance",
    "_Feature"
   ],
   "window_display": false
  }
 },
 "nbformat": 4,
 "nbformat_minor": 2
}
