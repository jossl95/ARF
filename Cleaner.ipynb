{
 "cells": [
  {
   "cell_type": "markdown",
   "metadata": {},
   "source": [
    "# Cleaner"
   ]
  },
  {
   "cell_type": "code",
   "execution_count": null,
   "metadata": {},
   "outputs": [],
   "source": [
    "import pandas as pd\n",
    "import os\n",
    "import time"
   ]
  },
  {
   "cell_type": "code",
   "execution_count": null,
   "metadata": {},
   "outputs": [],
   "source": [
    "def get_day(day):\n",
    "    day = day.str.split(' ').str[0]\n",
    "    day = day.replace('today', '0')\n",
    "    pd.to_numeric(day)\n",
    "    return day\n",
    "\n",
    "def to_dt(col):\n",
    "    return pd.to_datetime(col, unit = 's', errors = 'coerce')"
   ]
  },
  {
   "cell_type": "code",
   "execution_count": null,
   "metadata": {},
   "outputs": [],
   "source": [
    "def date_to_num(col):\n",
    "    \"\"\"\n",
    "    This function returns a numeric value for valid date strings\n",
    "    If the date is today, a zero-value is returned\n",
    "    Otherwise a Null value is returned \n",
    "    \"\"\"\n",
    "    if isinstance(col, str):\n",
    "        if 'today' not in col:\n",
    "            trans_dict = {\n",
    "                'year'  : 365.25,\n",
    "                'month' : 365.25/12,\n",
    "                'day'   : 1,\n",
    "                'hour'  : 1/24\n",
    "            }\n",
    "\n",
    "            value = float(col.split(' ')[0])\n",
    "            unit = col.split(' ')[1]\n",
    "            for key in trans_dict.keys():\n",
    "                if unit in key:\n",
    "                    unit = unit.replace(key, str(trans_dict[key]))\n",
    "            unit = float(unit)\n",
    "\n",
    "            return value * unit\n",
    "        \n",
    "        elif 'today' in col:\n",
    "            return 0\n",
    "        \n",
    "        else:\n",
    "            return None"
   ]
  },
  {
   "cell_type": "markdown",
   "metadata": {},
   "source": [
    "## Feedback information\n",
    "### Dropping duplicate rows"
   ]
  },
  {
   "cell_type": "code",
   "execution_count": null,
   "metadata": {},
   "outputs": [],
   "source": [
    "MAINDIR = os.getcwd().rsplit('/', 1)[0]"
   ]
  },
  {
   "cell_type": "code",
   "execution_count": null,
   "metadata": {},
   "outputs": [],
   "source": [
    "data_file = os.path.join(MAINDIR, 'data/parsed/silkroad2', 'feedbacks.pickle')\n",
    "out_file  = os.path.join(MAINDIR, 'data/final/silkroad2', 'feedbacks.pickle')\n",
    "\n",
    "df = pd.read_pickle(data_file)\n",
    "mem = df.memory_usage(deep = True).sum()\n",
    "print(len(df), len(df.drop_duplicates()), len(df) - len(df.drop_duplicates()))\n",
    "df = df.drop_duplicates()"
   ]
  },
  {
   "cell_type": "code",
   "execution_count": null,
   "metadata": {},
   "outputs": [],
   "source": [
    "df['freshness'] = pd.to_numeric(get_day(df.freshness))\n",
    "df = df\\\n",
    "    .assign(rating = pd.to_numeric(df.rating.str.get(0)),\n",
    "            rtime  = df.stime - df.freshness * 86400)\\\n",
    "    .assign(rtime_dt = lambda df_copy: to_dt(df_copy.rtime))"
   ]
  },
  {
   "cell_type": "code",
   "execution_count": null,
   "metadata": {},
   "outputs": [],
   "source": [
    "print('memory usage before cleaning                    ', \n",
    "      mem)\n",
    "print('memory usage before memory usage optimalization ', \n",
    "      df.memory_usage(deep = True).sum())\n",
    "\n",
    "column_types = {\n",
    "    'name'     : 'category',\n",
    "    'stime'    : 'float32',\n",
    "    'rating'   : pd.Int16Dtype(),\n",
    "    'feedback' : 'object',\n",
    "    'freshness': 'float32',\n",
    "    'rtime'    : 'float32',\n",
    "    'rtime_dt' : 'datetime64'\n",
    "}\n",
    "\n",
    "df = df.astype(column_types)\n",
    "\n",
    "print('memory usage after memory usage optimalization  ', \n",
    "      df.memory_usage(deep = True).sum())"
   ]
  },
  {
   "cell_type": "markdown",
   "metadata": {},
   "source": [
    "### Dropping Duplicates\n",
    "\n",
    "In scaped data, the same data is often scraped multiple times. To assure that feedbacks are not included twice duplicates will be dropped. Feedbacks can be uniquely identified by: \n",
    "- `name`\n",
    "- `rating`\n",
    "- `feedback`\n",
    "- `rtime_dt`"
   ]
  },
  {
   "cell_type": "code",
   "execution_count": null,
   "metadata": {},
   "outputs": [],
   "source": [
    "# drop duplicate feedbacks from table \n",
    "subset = ['name', 'rating', 'feedback', 'rtime_dt']\n",
    "print(\"before dropping duplicates: {0}\\nafter dropping duplicates:\"\n",
    "      + \"  {1}\\n\\n{2} duplicate cases were dropped\"\\\n",
    "      .format(len(df), \n",
    "              len(df.drop_duplicates(subset = subset)), \n",
    "              len(df) - len(df.drop_duplicates(subset = subset))))\n",
    "\n",
    "df = df.drop_duplicates(subset = subset)\n",
    "df = df.reset_index()"
   ]
  },
  {
   "cell_type": "code",
   "execution_count": null,
   "metadata": {},
   "outputs": [],
   "source": [
    "df.to_pickle(out_file)"
   ]
  },
  {
   "cell_type": "markdown",
   "metadata": {},
   "source": [
    "## Vendor information"
   ]
  },
  {
   "cell_type": "code",
   "execution_count": null,
   "metadata": {},
   "outputs": [],
   "source": [
    "data_file = os.path.join(MAINDIR, 'data/parsed/silkroad2', 'vendors.pickle')\n",
    "out_file  = os.path.join(MAINDIR, 'data/final/silkroad2', 'vendors.pickle')\n",
    "\n",
    "df = pd.read_pickle(data_file)\n",
    "mem = df.memory_usage(deep = True).sum()"
   ]
  },
  {
   "cell_type": "code",
   "execution_count": null,
   "metadata": {},
   "outputs": [],
   "source": [
    "df = df\\\n",
    "    .assign(\n",
    "        ctime     = df.ctime.str.replace(\"about \", \"\").str.replace('s', '').str.replace(' ago', ''),\n",
    "        otime     = df.otime.str.replace(\"about \", \"\").str.replace('s', '').str.replace(' ago', ''))\\\n",
    "    .assign(\n",
    "        ctime_num = lambda df_copy: df_copy['ctime'].apply(date_to_num),\n",
    "        otime_num = lambda df_copy: df_copy['otime'].apply(date_to_num))\\\n",
    "    .assign(\n",
    "        otime_dt  = lambda df_copy: to_dt(df_copy.stime - df_copy.otime_num * 86400),\n",
    "        ctime_dt  = lambda df_copy: to_dt(df_copy.stime - df_copy.ctime_num * 86400),\n",
    "        stime_dt  = to_dt(df.stime),\n",
    "        score     = df.score.replace('NEW VENDOR', 0).apply(pd.to_numeric))\\\n",
    "    .assign(\n",
    "        score     = lambda df_copy: df_copy.score.mask(df_copy.score > 100)\n",
    "    )"
   ]
  },
  {
   "cell_type": "code",
   "execution_count": null,
   "metadata": {},
   "outputs": [],
   "source": [
    "# drop duplicate feedbacks from table \n",
    "df['flag'] = df.ctime_dt.dt.strftime('%d%m%Y').astype('category')\n",
    "subset = ['name', 'flag', 'location', 'area']\n",
    "print(\"before dropping duplicates: {0}\\nafter dropping duplicates:\"\n",
    "      + \"   {1}\\n\\n{2} duplicate cases were dropped\"\\\n",
    "      .format(len(df), \n",
    "              len(df.drop_duplicates(subset = subset)), \n",
    "              len(df) - len(df.drop_duplicates(subset = subset))))\n",
    "\n",
    "df = df.drop_duplicates(subset = subset)"
   ]
  },
  {
   "cell_type": "code",
   "execution_count": null,
   "metadata": {},
   "outputs": [],
   "source": [
    "columns = ['name', 'stime', 'stime_dt', 'score', 'ctime', 'ctime_num', 'ctime_dt', \n",
    "           'otime', 'otime_num', 'otime_dt', 'location', 'area']\n",
    "\n",
    "df = df.reindex(columns, axis=1)\n",
    "df = df.reset_index()"
   ]
  },
  {
   "cell_type": "code",
   "execution_count": null,
   "metadata": {},
   "outputs": [],
   "source": [
    "print('memory usage before cleaning                    ', mem)\n",
    "print('memory usage before memory usage optimalization ', df.memory_usage(deep = True).sum())\n",
    "\n",
    "column_types = {\n",
    "    'name'     : 'category',\n",
    "    'stime'    : 'float32',\n",
    "    'stime_dt' : 'datetime64',\n",
    "    'score'    : pd.Int16Dtype(),\n",
    "    'ctime'    : 'category', \n",
    "    'ctime_num': 'float32', \n",
    "    'ctime_dt' : 'datetime64', \n",
    "    'otime'    : 'category', \n",
    "    'otime_num': 'float32', \n",
    "    'otime_dt' : 'datetime64', \n",
    "    'location' : 'category', \n",
    "    'area'     : 'category'\n",
    "}\n",
    "\n",
    "df = df.astype(column_types)\n",
    "\n",
    "print('memory usage after memory usage optimalization   ', df.memory_usage(deep = True).sum())"
   ]
  },
  {
   "cell_type": "code",
   "execution_count": null,
   "metadata": {},
   "outputs": [],
   "source": [
    "df.to_pickle(out_file)"
   ]
  },
  {
   "cell_type": "markdown",
   "metadata": {
    "collapsed": true
   },
   "source": [
    "## Item Information"
   ]
  },
  {
   "cell_type": "code",
   "execution_count": null,
   "metadata": {},
   "outputs": [],
   "source": [
    "data_file = os.path.join(MAINDIR, 'data/parsed/silkroad2', 'items.pickle')\n",
    "out_file  = os.path.join(MAINDIR, 'data/final/silkroad2', 'items.pickle')\n",
    "\n",
    "df = pd.read_pickle(data_file)"
   ]
  },
  {
   "cell_type": "code",
   "execution_count": null,
   "metadata": {},
   "outputs": [],
   "source": [
    "def clean_freshness(col):\n",
    "    #assert that freshness is not missing\n",
    "    new_col = []\n",
    "    for i in col:\n",
    "        if not isinstance(i, (float, int)) and 'day' in i and len(i) < 10:\n",
    "            new_col.append(i)\n",
    "        else:\n",
    "            new_col.append(None)\n",
    "    \n",
    "    return pd.Series(new_col)"
   ]
  },
  {
   "cell_type": "code",
   "execution_count": null,
   "metadata": {},
   "outputs": [],
   "source": [
    "df = df\\\n",
    "    .assign(\n",
    "        vendor = df.vendor.str.replace('\\\\n', ''),\n",
    "        freshness = clean_freshness(df.freshness).\\\n",
    "            str.replace('s', '')\\\n",
    "            .apply(date_to_num),\n",
    "        rating = df.rating.str.get(0),\n",
    "        price = df.price.str[1:],\n",
    "        stime_str = df.stime_dt,\n",
    "        category = df.category)\\\n",
    "    .assign(\n",
    "        rtime = lambda df_copy: df_copy.stime - df_copy.freshness *86400)\\\n",
    "    .assign(\n",
    "        rtime_dt = lambda df_copy: to_dt(df_copy.rtime).dt.normalize(),\n",
    "        stime_dt = lambda df_copy: to_dt(df_copy.stime).dt.normalize())"
   ]
  },
  {
   "cell_type": "code",
   "execution_count": null,
   "metadata": {},
   "outputs": [],
   "source": [
    "column_types = {\n",
    "    'vendor'   : 'category',\n",
    "    'stime'    : 'float32',\n",
    "    'stime_dt' : 'datetime64',\n",
    "    'stime_str': 'category',\n",
    "    'rating'   : 'float16',\n",
    "    'feedback' : 'object',\n",
    "    'item'     : 'object',\n",
    "    'category' : 'category',\n",
    "    'price'    : 'float32',\n",
    "    'freshness': 'float32',\n",
    "    'rtime'    : 'float32',\n",
    "    'rtime_dt' : 'datetime64',\n",
    "    'loc'      : 'category',\n",
    "    'area'     : 'category'\n",
    "}\n",
    "\n",
    "df = df.astype(column_types)\n",
    "\n",
    "# downcast integer variables\n",
    "df = df\\\n",
    "    .assign(\n",
    "        freshness = pd.Series(df.freshness, dtype=pd.Int16Dtype()),\n",
    "        rating = pd.Series(df.rating, dtype=pd.Int16Dtype()))\n",
    "\n",
    "print('memory usage after memory usage optimalization', df.memory_usage(deep = True).sum())"
   ]
  },
  {
   "cell_type": "code",
   "execution_count": null,
   "metadata": {},
   "outputs": [],
   "source": [
    "# drop duplicate feedbacks from table \n",
    "subset = ['vendor', 'rtime_dt', 'item', 'loc', 'feedback', 'rating']\n",
    "print(\"before dropping duplicates: {0}\\nafter dropping duplicates:\"\n",
    "      + \"  {1}\\n\\n{2} duplicate cases were dropped\"\\\n",
    "      .format(len(df), \n",
    "              len(df.drop_duplicates(subset = subset)), \n",
    "              len(df) - len(df.drop_duplicates(subset = subset))))\n",
    "\n",
    "df = df.drop_duplicates(subset = subset)\n",
    "df['location'] = df['loc']"
   ]
  },
  {
   "cell_type": "code",
   "execution_count": null,
   "metadata": {},
   "outputs": [],
   "source": [
    "columns = ['vendor', 'stime', 'stime_dt', 'stime_str', \n",
    "           'rating', 'feedback', 'item', 'category', \n",
    "           'price', 'freshness', 'rtime', 'rtime_dt', \n",
    "           'location', 'area']\n",
    "\n",
    "df = df.reindex(columns, axis=1)\n",
    "df = df.reset_index(drop = True)\n",
    "df = df.dropna()"
   ]
  },
  {
   "cell_type": "code",
   "execution_count": null,
   "metadata": {},
   "outputs": [],
   "source": [
    "df.to_pickle(out_file)"
   ]
  },
  {
   "cell_type": "markdown",
   "metadata": {},
   "source": [
    "## Categories"
   ]
  },
  {
   "cell_type": "code",
   "execution_count": null,
   "metadata": {},
   "outputs": [],
   "source": [
    "data_file = os.path.join(MAINDIR, 'data/parsed/silkroad2', 'categories.pickle')\n",
    "out_file  = os.path.join(MAINDIR, 'data/final/silkroad2', 'categories.pickle')\n",
    "\n",
    "df = pd.read_pickle(data_file)\n",
    "mem = df.memory_usage(deep = True).sum()\n",
    "print(len(df), len(df.drop_duplicates()), len(df) - len(df.drop_duplicates()))\n",
    "df = df.drop_duplicates()"
   ]
  },
  {
   "cell_type": "code",
   "execution_count": null,
   "metadata": {},
   "outputs": [],
   "source": [
    "# clean variables\n",
    "df = df\\\n",
    "    .assign(title = df.title.str.strip(),\n",
    "            vendor = df.vendor.str.strip(),\n",
    "            location = df.location.str.strip(),\n",
    "            area = df.location.str.strip(),\n",
    "            price = pd.to_numeric(\n",
    "                    df.price.str.strip()\\\n",
    "                    .str[1:],\n",
    "                errors = 'coerce'),\n",
    "            category = df.category.str.strip())"
   ]
  },
  {
   "cell_type": "code",
   "execution_count": null,
   "metadata": {},
   "outputs": [],
   "source": [
    "# memory optimization\n",
    "column_types = {\n",
    "    'title'    : 'object',\n",
    "    'vendor'   : 'category',\n",
    "    'location' : 'category',\n",
    "    'area'     : 'category',\n",
    "    'price'    : 'float64',\n",
    "    'category' : 'category'\n",
    "}\n",
    "\n",
    "df = df.astype(column_types)"
   ]
  },
  {
   "cell_type": "code",
   "execution_count": null,
   "metadata": {},
   "outputs": [],
   "source": [
    "# encode infinite values to missing and restructure. \n",
    "df['price']= df['price'].replace([np.inf, -np.inf], np.nan)\n",
    "df = df.reset_index(drop = True)\n",
    "\n",
    "# safe dataframe\n",
    "df.to_pickle(out_file)"
   ]
  }
 ],
 "metadata": {
  "kernelspec": {
   "display_name": "Python 3",
   "language": "python",
   "name": "python3"
  },
  "language_info": {
   "codemirror_mode": {
    "name": "ipython",
    "version": 3
   },
   "file_extension": ".py",
   "mimetype": "text/x-python",
   "name": "python",
   "nbconvert_exporter": "python",
   "pygments_lexer": "ipython3",
   "version": "3.7.3"
  },
  "varInspector": {
   "cols": {
    "lenName": 16,
    "lenType": 16,
    "lenVar": 40
   },
   "kernels_config": {
    "python": {
     "delete_cmd_postfix": "",
     "delete_cmd_prefix": "del ",
     "library": "var_list.py",
     "varRefreshCmd": "print(var_dic_list())"
    },
    "r": {
     "delete_cmd_postfix": ") ",
     "delete_cmd_prefix": "rm(",
     "library": "var_list.r",
     "varRefreshCmd": "cat(var_dic_list()) "
    }
   },
   "types_to_exclude": [
    "module",
    "function",
    "builtin_function_or_method",
    "instance",
    "_Feature"
   ],
   "window_display": false
  }
 },
 "nbformat": 4,
 "nbformat_minor": 2
}
