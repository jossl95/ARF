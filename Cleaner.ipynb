{
 "cells": [
  {
   "cell_type": "code",
   "execution_count": 1,
   "metadata": {},
   "outputs": [],
   "source": [
    "import pandas as pd\n",
    "import os\n",
    "import time"
   ]
  },
  {
   "cell_type": "code",
   "execution_count": 2,
   "metadata": {},
   "outputs": [],
   "source": [
    "MAIN_DIR = \"/Volumes/Extreme SSD\"\n",
    "DATA_DIR = os.path.join(MAIN_DIR, \"data\")"
   ]
  },
  {
   "cell_type": "markdown",
   "metadata": {},
   "source": [
    "## Feedback information\n",
    "#### Dropping duplicate rows"
   ]
  },
  {
   "cell_type": "code",
   "execution_count": 3,
   "metadata": {},
   "outputs": [
    {
     "name": "stdout",
     "output_type": "stream",
     "text": [
      "2275492 2152745 122747\n"
     ]
    }
   ],
   "source": [
    "data_file = os.path.join(MAIN_DIR, 'data', 'parsed', 'silkroad2', 'feedbacks.pickle')\n",
    "out_file  = os.path.join(MAIN_DIR, 'data', 'final', 'silkroad2', 'feedbacks.pickle')\n",
    "\n",
    "df = pd.read_pickle(data_file)\n",
    "mem = df.memory_usage(deep = True).sum()\n",
    "print(len(df), len(df.drop_duplicates()), len(df) - len(df.drop_duplicates()))\n",
    "df = df.drop_duplicates()"
   ]
  },
  {
   "cell_type": "code",
   "execution_count": 4,
   "metadata": {},
   "outputs": [],
   "source": [
    "def get_day(day):\n",
    "    day = day.str.split(' ').str[0]\n",
    "    day = day.replace('today', '0')\n",
    "    pd.to_numeric(day)\n",
    "    return day\n",
    "\n",
    "def to_dt(col):\n",
    "    return pd.to_datetime(col, unit = 's', errors = 'coerce')"
   ]
  },
  {
   "cell_type": "code",
   "execution_count": 5,
   "metadata": {},
   "outputs": [],
   "source": [
    "df['freshness'] = pd.to_numeric(get_day(df.freshness))\n",
    "df = df\\\n",
    "    .assign(rating = pd.to_numeric(df.rating.str.get(0)),\n",
    "            rtime  = df.stime - df.freshness * 86400)\\\n",
    "    .assign(rtime_dt = lambda df_copy: to_dt(df_copy.rtime))"
   ]
  },
  {
   "cell_type": "code",
   "execution_count": 6,
   "metadata": {},
   "outputs": [
    {
     "name": "stdout",
     "output_type": "stream",
     "text": [
      "memory usage before cleaning                     890426282\n",
      "memory usage before memory usage optimalization  639579799\n",
      "memory usage after memory usage optimalization   460772248\n"
     ]
    }
   ],
   "source": [
    "print('memory usage before cleaning                    ', mem)\n",
    "print('memory usage before memory usage optimalization ', df.memory_usage(deep = True).sum())\n",
    "\n",
    "column_types = {\n",
    "    'name'     : 'category',\n",
    "    'stime'    : 'float32',\n",
    "    'rating'   : pd.Int16Dtype(),\n",
    "    'feedback' : 'object',\n",
    "    'freshness': 'float32',\n",
    "    'rtime'    : 'float32',\n",
    "    'rtime_dt' : 'datetime64'\n",
    "}\n",
    "\n",
    "df = df.astype(column_types)\n",
    "\n",
    "print('memory usage after memory usage optimalization  ', df.memory_usage(deep = True).sum())"
   ]
  },
  {
   "cell_type": "markdown",
   "metadata": {},
   "source": [
    "#### dropping duplicates\n",
    "\n",
    "In scaped data, the same data is often scraped multiple times. To assure that feedbacks are not included twice duplicates will be dropped. Feedbacks can be uniquely identified by: \n",
    "- `name`\n",
    "- `rating`\n",
    "- `feedback`\n",
    "- `rtime_dt`"
   ]
  },
  {
   "cell_type": "code",
   "execution_count": 7,
   "metadata": {},
   "outputs": [
    {
     "name": "stdout",
     "output_type": "stream",
     "text": [
      "before dropping duplicates: 2152745\n",
      "after dropping duplicates:  2145909\n",
      "\n",
      "6836 duplicate cases were dropped\n"
     ]
    }
   ],
   "source": [
    "# drop duplicate feedbacks from table \n",
    "subset = ['name', 'rating', 'feedback', 'rtime_dt']\n",
    "print(\"before dropping duplicates: {0}\\nafter dropping duplicates:  {1}\\n\\n{2} duplicate cases were dropped\".format(len(df), len(df.drop_duplicates(subset = subset)), len(df) - len(df.drop_duplicates(subset = subset))))\n",
    "\n",
    "df = df.drop_duplicates(subset = subset)\n",
    "df = df.reset_index()"
   ]
  },
  {
   "cell_type": "code",
   "execution_count": 8,
   "metadata": {},
   "outputs": [],
   "source": [
    "df.to_pickle(out_file)"
   ]
  },
  {
   "cell_type": "markdown",
   "metadata": {},
   "source": [
    "## Vendor information\n"
   ]
  },
  {
   "cell_type": "code",
   "execution_count": 9,
   "metadata": {},
   "outputs": [],
   "source": [
    "data_file = os.path.join(MAIN_DIR, 'data', 'parsed', 'silkroad2', 'vendors.pickle')\n",
    "out_file  = os.path.join(MAIN_DIR, 'data', 'final', 'silkroad2', 'vendors.pickle')\n",
    "\n",
    "df = pd.read_pickle(data_file)\n",
    "mem = df.memory_usage(deep = True).sum()"
   ]
  },
  {
   "cell_type": "code",
   "execution_count": 10,
   "metadata": {},
   "outputs": [],
   "source": [
    "def date_to_num(col):\n",
    "    \"\"\"\n",
    "    This function returns a numeric value for valid date strings\n",
    "    If the date is today, a zero-value is returned\n",
    "    Otherwise a Null value is returned \n",
    "    \"\"\"\n",
    "    if isinstance(col, str):\n",
    "        if 'today' not in col:\n",
    "            trans_dict = {\n",
    "                'year'  : 365.25,\n",
    "                'month' : 365.25/12,\n",
    "                'day'   : 1,\n",
    "                'hour'  : 1/24\n",
    "            }\n",
    "\n",
    "            value = float(col.split(' ')[0])\n",
    "            unit = col.split(' ')[1]\n",
    "            for key in trans_dict.keys():\n",
    "                if unit in key:\n",
    "                    unit = unit.replace(key, str(trans_dict[key]))\n",
    "            unit = float(unit)\n",
    "\n",
    "            return value * unit\n",
    "        \n",
    "        elif 'today' in col:\n",
    "            return 0\n",
    "        \n",
    "        else:\n",
    "            return None"
   ]
  },
  {
   "cell_type": "code",
   "execution_count": 11,
   "metadata": {},
   "outputs": [],
   "source": [
    "df = df\\\n",
    "    .assign(\n",
    "        ctime     = df.ctime.str.replace(\"about \", \"\").str.replace('s', '').str.replace(' ago', ''),\n",
    "        otime     = df.otime.str.replace(\"about \", \"\").str.replace('s', '').str.replace(' ago', ''))\\\n",
    "    .assign(\n",
    "        ctime_num = lambda df_copy: df_copy['ctime'].apply(date_to_num),\n",
    "        otime_num = lambda df_copy: df_copy['otime'].apply(date_to_num))\\\n",
    "    .assign(\n",
    "        otime_dt  = lambda df_copy: to_dt(df_copy.stime - df_copy.otime_num * 86400),\n",
    "        ctime_dt  = lambda df_copy: to_dt(df_copy.stime - df_copy.ctime_num * 86400),\n",
    "        stime_dt  = to_dt(df.stime),\n",
    "        score     = df.score.replace('NEW VENDOR', 0).apply(pd.to_numeric))\\\n",
    "    .assign(\n",
    "        score     = lambda df_copy: df_copy.score.mask(df_copy.score > 100)\n",
    "    )"
   ]
  },
  {
   "cell_type": "code",
   "execution_count": 12,
   "metadata": {},
   "outputs": [
    {
     "name": "stdout",
     "output_type": "stream",
     "text": [
      "before dropping duplicates: 12242\n",
      "after dropping duplicates:  9377\n",
      "\n",
      "2865 duplicate cases were dropped\n"
     ]
    }
   ],
   "source": [
    "# drop duplicate feedbacks from table \n",
    "df['flag'] = df.ctime_dt.dt.strftime('%d%m%Y').astype('category')\n",
    "subset = ['name', 'flag', 'location', 'area']\n",
    "print(\"before dropping duplicates: {0}\\nafter dropping duplicates:   {1}\\n\\n{2} duplicate cases were dropped\".format(len(df), len(df.drop_duplicates(subset = subset)), len(df) - len(df.drop_duplicates(subset = subset))))\n",
    "df = df.drop_duplicates(subset = subset)"
   ]
  },
  {
   "cell_type": "code",
   "execution_count": 13,
   "metadata": {},
   "outputs": [],
   "source": [
    "columns = ['name', 'stime', 'stime_dt', 'score', 'ctime', 'ctime_num', 'ctime_dt', \n",
    "           'otime', 'otime_num', 'otime_dt', 'location', 'area']\n",
    "\n",
    "df = df.reindex(columns, axis=1)\n",
    "df = df.reset_index()"
   ]
  },
  {
   "cell_type": "code",
   "execution_count": 14,
   "metadata": {},
   "outputs": [
    {
     "name": "stdout",
     "output_type": "stream",
     "text": [
      "memory usage before cleaning                     5708163\n",
      "memory usage before memory usage optimalization  3695920\n",
      "memory usage after memory usage optimalization    640278\n"
     ]
    }
   ],
   "source": [
    "print('memory usage before cleaning                    ', mem)\n",
    "print('memory usage before memory usage optimalization ', df.memory_usage(deep = True).sum())\n",
    "\n",
    "column_types = {\n",
    "    'name'     : 'category',\n",
    "    'stime'    : 'float32',\n",
    "    'stime_dt' : 'datetime64',\n",
    "    'score'    : pd.Int16Dtype(),\n",
    "    'ctime'    : 'category', \n",
    "    'ctime_num': 'float32', \n",
    "    'ctime_dt' : 'datetime64', \n",
    "    'otime'    : 'category', \n",
    "    'otime_num': 'float32', \n",
    "    'otime_dt' : 'datetime64', \n",
    "    'location' : 'category', \n",
    "    'area'     : 'category'\n",
    "}\n",
    "\n",
    "df = df.astype(column_types)\n",
    "\n",
    "print('memory usage after memory usage optimalization   ', df.memory_usage(deep = True).sum())"
   ]
  },
  {
   "cell_type": "code",
   "execution_count": 15,
   "metadata": {},
   "outputs": [],
   "source": [
    "df.to_pickle(out_file)"
   ]
  },
  {
   "cell_type": "markdown",
   "metadata": {
    "collapsed": true
   },
   "source": [
    "## Item Information"
   ]
  },
  {
   "cell_type": "code",
   "execution_count": 7,
   "metadata": {},
   "outputs": [
    {
     "name": "stdout",
     "output_type": "stream",
     "text": [
      "22003618 22003618 0\n"
     ]
    }
   ],
   "source": [
    "data_file = os.path.join(MAIN_DIR, 'data', 'parsed', 'silkroad2', 'items.pickle')\n",
    "out_file  = os.path.join(MAIN_DIR, 'data', 'final', 'silkroad2', 'items.pickle')\n",
    "\n",
    "df = pd.read_pickle(data_file)\n",
    "print(len(df), len(df.drop_duplicates()), len(df) - len(df.drop_duplicates()))\n",
    "df = df.drop_duplicates()"
   ]
  },
  {
   "cell_type": "code",
   "execution_count": 8,
   "metadata": {},
   "outputs": [],
   "source": [
    "def clean_freshness(col):\n",
    "    #assert that freshness is not missing\n",
    "    new_col = []\n",
    "    for i in col:\n",
    "        if not isinstance(i, (float, int)) and 'day' in i and len(i) < 10:\n",
    "            new_col.append(i)\n",
    "        else:\n",
    "            new_col.append(None)\n",
    "    \n",
    "    return pd.Series(new_col)\n",
    "\n",
    "# mem = df.memory_usage(deep = True).sum()"
   ]
  },
  {
   "cell_type": "code",
   "execution_count": 11,
   "metadata": {},
   "outputs": [],
   "source": [
    "df = df\\\n",
    "    .assign(\n",
    "        vendor = df.vendor.str.replace('\\\\n', ''),\n",
    "        freshness = clean_freshness(df.freshness).\\\n",
    "            str.replace('s', '')\\\n",
    "            .apply(date_to_num),\n",
    "        rating = df.rating.str.get(0),\n",
    "        price = df.price.str[1:],\n",
    "        stime_str = df.stime_dt)\\\n",
    "    .assign(\n",
    "        rtime = lambda df_copy: df_copy.stime - df_copy.freshness *86400)\\\n",
    "    .assign(\n",
    "        rtime_dt = lambda df_copy: to_dt(df_copy.rtime),\n",
    "        stime_dt = lambda df_copy: to_dt(df_copy.stime))"
   ]
  },
  {
   "cell_type": "code",
   "execution_count": 12,
   "metadata": {},
   "outputs": [
    {
     "name": "stdout",
     "output_type": "stream",
     "text": [
      "memory usage after memory usage optimalization 5984469841\n"
     ]
    }
   ],
   "source": [
    "# print('memory usage before cleaning', mem)\n",
    "# print('memory usage before memory usage optimalization', df.memory_usage(deep = True).sum())\n",
    "\n",
    "column_types = {\n",
    "    'vendor'   : 'category',\n",
    "    'stime'    : 'float32',\n",
    "    'stime_dt' : 'datetime64',\n",
    "    'stime_str': 'category',\n",
    "    'rating'   : 'float16',\n",
    "    'feedback' : 'object',\n",
    "    'item'     : 'object',\n",
    "    'price'    : 'float32',\n",
    "    'freshness': 'float32',\n",
    "    'rtime'    : 'float32',\n",
    "    'rtime_dt' : 'datetime64',\n",
    "    'loc'      : 'category',\n",
    "    'area'     : 'category'\n",
    "}\n",
    "\n",
    "df = df.astype(column_types)\n",
    "\n",
    "# downcast integer variables\n",
    "df = df\\\n",
    "    .assign(\n",
    "        freshness = pd.Series(df.freshness, dtype=pd.Int16Dtype()),\n",
    "        rating = pd.Series(df.rating, dtype=pd.Int16Dtype()))\n",
    "\n",
    "print('memory usage after memory usage optimalization', df.memory_usage(deep = True).sum())"
   ]
  },
  {
   "cell_type": "code",
   "execution_count": 13,
   "metadata": {},
   "outputs": [
    {
     "name": "stdout",
     "output_type": "stream",
     "text": [
      "before dropping duplicates: 22003618\n",
      "after dropping duplicates:  1362588\n",
      "\n",
      "20641030 duplicate cases were dropped\n"
     ]
    }
   ],
   "source": [
    "# drop duplicate feedbacks from table \n",
    "df['flag'] = df.rtime_dt.dt.strftime('%d%m%Y').astype('category')\n",
    "subset = ['vendor', 'flag', 'item', 'loc', 'feedback', 'rating']\n",
    "print(\"before dropping duplicates: {0}\\nafter dropping duplicates:  {1}\\n\\n{2} duplicate cases were dropped\".format(len(df), len(df.drop_duplicates(subset = subset)), len(df) - len(df.drop_duplicates(subset = subset))))\n",
    "df = df.drop_duplicates(subset = subset)\n",
    "df['location'] = df['loc']"
   ]
  },
  {
   "cell_type": "code",
   "execution_count": 14,
   "metadata": {},
   "outputs": [],
   "source": [
    "columns = ['vendor', 'stime', 'stime_dt', 'stime_str', 'rating', 'feedback', 'item', 'price',\n",
    "         'freshness', 'rtime', 'rtime_dt', 'location', 'area']\n",
    "\n",
    "df = df.reindex(columns, axis=1)\n",
    "df = df.reset_index(drop = True)"
   ]
  },
  {
   "cell_type": "code",
   "execution_count": 15,
   "metadata": {},
   "outputs": [
    {
     "data": {
      "text/html": [
       "<div>\n",
       "<style scoped>\n",
       "    .dataframe tbody tr th:only-of-type {\n",
       "        vertical-align: middle;\n",
       "    }\n",
       "\n",
       "    .dataframe tbody tr th {\n",
       "        vertical-align: top;\n",
       "    }\n",
       "\n",
       "    .dataframe thead th {\n",
       "        text-align: right;\n",
       "    }\n",
       "</style>\n",
       "<table border=\"1\" class=\"dataframe\">\n",
       "  <thead>\n",
       "    <tr style=\"text-align: right;\">\n",
       "      <th></th>\n",
       "      <th>vendor</th>\n",
       "      <th>stime</th>\n",
       "      <th>stime_dt</th>\n",
       "      <th>stime_str</th>\n",
       "      <th>rating</th>\n",
       "      <th>feedback</th>\n",
       "      <th>item</th>\n",
       "      <th>price</th>\n",
       "      <th>freshness</th>\n",
       "      <th>rtime</th>\n",
       "      <th>rtime_dt</th>\n",
       "      <th>location</th>\n",
       "      <th>area</th>\n",
       "    </tr>\n",
       "  </thead>\n",
       "  <tbody>\n",
       "    <tr>\n",
       "      <th>344253</th>\n",
       "      <td>sbraser</td>\n",
       "      <td>1.402431e+09</td>\n",
       "      <td>2014-06-10 20:08:45</td>\n",
       "      <td>2014-05-19</td>\n",
       "      <td>5</td>\n",
       "      <td>FE will update once I get it</td>\n",
       "      <td>0.1g MDMA TESTER - UK IMPORTED TAN CRYSTALS - ...</td>\n",
       "      <td>0.000000</td>\n",
       "      <td>146</td>\n",
       "      <td>1.389817e+09</td>\n",
       "      <td>2014-01-15 20:08:45</td>\n",
       "      <td>Australia</td>\n",
       "      <td>Australia</td>\n",
       "    </tr>\n",
       "    <tr>\n",
       "      <th>1261692</th>\n",
       "      <td>WeedGirlz93</td>\n",
       "      <td>1.414796e+09</td>\n",
       "      <td>2014-10-31 22:52:17</td>\n",
       "      <td>2014-11-01</td>\n",
       "      <td>5</td>\n",
       "      <td>Great Vendor. Great Quality. Would recommend.</td>\n",
       "      <td>1 Large Brownie</td>\n",
       "      <td>0.055221</td>\n",
       "      <td>43</td>\n",
       "      <td>1.411081e+09</td>\n",
       "      <td>2014-09-18 22:52:17</td>\n",
       "      <td>United States</td>\n",
       "      <td>United States</td>\n",
       "    </tr>\n",
       "    <tr>\n",
       "      <th>1135534</th>\n",
       "      <td>Swazibudbud88872</td>\n",
       "      <td>1.413275e+09</td>\n",
       "      <td>2014-10-14 08:24:20</td>\n",
       "      <td>2014-10-15</td>\n",
       "      <td>5</td>\n",
       "      <td>nicely done, product matches description, no i...</td>\n",
       "      <td>5g Swazi Gold Kief</td>\n",
       "      <td>0.103207</td>\n",
       "      <td>57</td>\n",
       "      <td>1.408350e+09</td>\n",
       "      <td>2014-08-18 08:24:20</td>\n",
       "      <td>South Africa</td>\n",
       "      <td>Worldwide</td>\n",
       "    </tr>\n",
       "    <tr>\n",
       "      <th>1089262</th>\n",
       "      <td>bodyinaction86</td>\n",
       "      <td>1.412813e+09</td>\n",
       "      <td>2014-10-08 23:59:35</td>\n",
       "      <td>2014-10-11</td>\n",
       "      <td>5</td>\n",
       "      <td>Got to USA in exactly 2 weeks after being ship...</td>\n",
       "      <td>Arimidex Anastrozole Astrazeneca 28tabs 1mg/tab</td>\n",
       "      <td>0.735294</td>\n",
       "      <td>42</td>\n",
       "      <td>1.409184e+09</td>\n",
       "      <td>2014-08-27 23:59:35</td>\n",
       "      <td>Undeclared</td>\n",
       "      <td>Worldwide</td>\n",
       "    </tr>\n",
       "    <tr>\n",
       "      <th>164137</th>\n",
       "      <td>FelixUK</td>\n",
       "      <td>1.402430e+09</td>\n",
       "      <td>2014-06-10 19:58:51</td>\n",
       "      <td>2014-03-10</td>\n",
       "      <td>5</td>\n",
       "      <td>Took 11 days but I got IT!!!! Good product!</td>\n",
       "      <td>FelixUK (0.25g) - 99.8% Pure 2CB UK Domestic</td>\n",
       "      <td>0.051190</td>\n",
       "      <td>4</td>\n",
       "      <td>1.402085e+09</td>\n",
       "      <td>2014-06-06 19:58:51</td>\n",
       "      <td>United Kingdom</td>\n",
       "      <td>Worldwide</td>\n",
       "    </tr>\n",
       "  </tbody>\n",
       "</table>\n",
       "</div>"
      ],
      "text/plain": [
       "                   vendor         stime            stime_dt   stime_str  \\\n",
       "344253            sbraser  1.402431e+09 2014-06-10 20:08:45  2014-05-19   \n",
       "1261692       WeedGirlz93  1.414796e+09 2014-10-31 22:52:17  2014-11-01   \n",
       "1135534  Swazibudbud88872  1.413275e+09 2014-10-14 08:24:20  2014-10-15   \n",
       "1089262    bodyinaction86  1.412813e+09 2014-10-08 23:59:35  2014-10-11   \n",
       "164137            FelixUK  1.402430e+09 2014-06-10 19:58:51  2014-03-10   \n",
       "\n",
       "         rating                                           feedback  \\\n",
       "344253        5                       FE will update once I get it   \n",
       "1261692       5      Great Vendor. Great Quality. Would recommend.   \n",
       "1135534       5  nicely done, product matches description, no i...   \n",
       "1089262       5  Got to USA in exactly 2 weeks after being ship...   \n",
       "164137        5        Took 11 days but I got IT!!!! Good product!   \n",
       "\n",
       "                                                      item     price  \\\n",
       "344253   0.1g MDMA TESTER - UK IMPORTED TAN CRYSTALS - ...  0.000000   \n",
       "1261692                                    1 Large Brownie  0.055221   \n",
       "1135534                                 5g Swazi Gold Kief  0.103207   \n",
       "1089262    Arimidex Anastrozole Astrazeneca 28tabs 1mg/tab  0.735294   \n",
       "164137        FelixUK (0.25g) - 99.8% Pure 2CB UK Domestic  0.051190   \n",
       "\n",
       "         freshness         rtime            rtime_dt        location  \\\n",
       "344253         146  1.389817e+09 2014-01-15 20:08:45       Australia   \n",
       "1261692         43  1.411081e+09 2014-09-18 22:52:17   United States   \n",
       "1135534         57  1.408350e+09 2014-08-18 08:24:20    South Africa   \n",
       "1089262         42  1.409184e+09 2014-08-27 23:59:35      Undeclared   \n",
       "164137           4  1.402085e+09 2014-06-06 19:58:51  United Kingdom   \n",
       "\n",
       "                  area  \n",
       "344253       Australia  \n",
       "1261692  United States  \n",
       "1135534      Worldwide  \n",
       "1089262      Worldwide  \n",
       "164137       Worldwide  "
      ]
     },
     "execution_count": 15,
     "metadata": {},
     "output_type": "execute_result"
    }
   ],
   "source": [
    "df.sample(5)"
   ]
  },
  {
   "cell_type": "code",
   "execution_count": 16,
   "metadata": {},
   "outputs": [],
   "source": [
    "df.to_pickle(out_file)"
   ]
  },
  {
   "cell_type": "markdown",
   "metadata": {},
   "source": [
    "# Categories"
   ]
  },
  {
   "cell_type": "code",
   "execution_count": 55,
   "metadata": {},
   "outputs": [
    {
     "name": "stdout",
     "output_type": "stream",
     "text": [
      "347877 325040 22837\n"
     ]
    }
   ],
   "source": [
    "data_file = os.path.join(MAIN_DIR, 'data', 'parsed', 'silkroad2', 'categories.pickle')\n",
    "out_file  = os.path.join(MAIN_DIR, 'data', 'final', 'silkroad2', 'categories.pickle')\n",
    "\n",
    "df = pd.read_pickle(data_file)\n",
    "mem = df.memory_usage(deep = True).sum()\n",
    "print(len(df), len(df.drop_duplicates()), len(df) - len(df.drop_duplicates()))\n",
    "df = df.drop_duplicates()"
   ]
  },
  {
   "cell_type": "code",
   "execution_count": 57,
   "metadata": {},
   "outputs": [],
   "source": [
    "# clean variables\n",
    "df = df\\\n",
    "    .assign(title = df.title.str.strip(),\n",
    "            vendor = df.vendor.str.strip(),\n",
    "            location = df.location.str.strip(),\n",
    "            area = df.location.str.strip(),\n",
    "            price = pd.to_numeric(\n",
    "                    df.price.str.strip()\\\n",
    "                    .str[1:],\n",
    "                errors = 'coerce'),\n",
    "            category = df.category.str.strip())"
   ]
  },
  {
   "cell_type": "code",
   "execution_count": 59,
   "metadata": {},
   "outputs": [],
   "source": [
    "# memory optimization\n",
    "column_types = {\n",
    "    'title'    : 'object',\n",
    "    'vendor'   : 'category',\n",
    "    'location' : 'category',\n",
    "    'area'     : 'category',\n",
    "    'price'    : 'float64',\n",
    "    'category' : 'category'\n",
    "}\n",
    "\n",
    "df = df.astype(column_types)"
   ]
  },
  {
   "cell_type": "code",
   "execution_count": 78,
   "metadata": {},
   "outputs": [
    {
     "data": {
      "text/html": [
       "<div>\n",
       "<style scoped>\n",
       "    .dataframe tbody tr th:only-of-type {\n",
       "        vertical-align: middle;\n",
       "    }\n",
       "\n",
       "    .dataframe tbody tr th {\n",
       "        vertical-align: top;\n",
       "    }\n",
       "\n",
       "    .dataframe thead th {\n",
       "        text-align: right;\n",
       "    }\n",
       "</style>\n",
       "<table border=\"1\" class=\"dataframe\">\n",
       "  <thead>\n",
       "    <tr style=\"text-align: right;\">\n",
       "      <th></th>\n",
       "      <th>title</th>\n",
       "      <th>vendor</th>\n",
       "      <th>location</th>\n",
       "      <th>area</th>\n",
       "      <th>price</th>\n",
       "      <th>category</th>\n",
       "    </tr>\n",
       "  </thead>\n",
       "  <tbody>\n",
       "    <tr>\n",
       "      <th>106315</th>\n",
       "      <td>Dexedrine SR (Dextroamphetamine) 10mg Spansule...</td>\n",
       "      <td>Quixote</td>\n",
       "      <td>United States</td>\n",
       "      <td>United States</td>\n",
       "      <td>0.172319</td>\n",
       "      <td>drugs-prescription-stimulants-amphetamine-dexe...</td>\n",
       "    </tr>\n",
       "    <tr>\n",
       "      <th>97107</th>\n",
       "      <td>28g AK48 Indoor Organic Top Shelf Weed Dank!</td>\n",
       "      <td>KushDepot</td>\n",
       "      <td>United States</td>\n",
       "      <td>United States</td>\n",
       "      <td>0.607910</td>\n",
       "      <td>drugs-cannabis</td>\n",
       "    </tr>\n",
       "    <tr>\n",
       "      <th>305695</th>\n",
       "      <td>100g pure FU-144 with FREE worldwide shipping</td>\n",
       "      <td>drzheng</td>\n",
       "      <td>China</td>\n",
       "      <td>China</td>\n",
       "      <td>2.462049</td>\n",
       "      <td>drugs-cannabis-synthetic</td>\n",
       "    </tr>\n",
       "    <tr>\n",
       "      <th>36184</th>\n",
       "      <td>1 Milion Youtube High Quality Real Views!</td>\n",
       "      <td>profesorhouse</td>\n",
       "      <td>Belgium</td>\n",
       "      <td>Belgium</td>\n",
       "      <td>1.105088</td>\n",
       "      <td>money</td>\n",
       "    </tr>\n",
       "    <tr>\n",
       "      <th>162306</th>\n",
       "      <td>MDMA 7 GRAMS - PURE &amp; UNCUT ROCKS</td>\n",
       "      <td>jerseycow</td>\n",
       "      <td>United Kingdom</td>\n",
       "      <td>United Kingdom</td>\n",
       "      <td>0.700870</td>\n",
       "      <td>drugs-ecstasy</td>\n",
       "    </tr>\n",
       "  </tbody>\n",
       "</table>\n",
       "</div>"
      ],
      "text/plain": [
       "                                                    title         vendor  \\\n",
       "106315  Dexedrine SR (Dextroamphetamine) 10mg Spansule...        Quixote   \n",
       "97107        28g AK48 Indoor Organic Top Shelf Weed Dank!      KushDepot   \n",
       "305695      100g pure FU-144 with FREE worldwide shipping        drzheng   \n",
       "36184           1 Milion Youtube High Quality Real Views!  profesorhouse   \n",
       "162306                  MDMA 7 GRAMS - PURE & UNCUT ROCKS      jerseycow   \n",
       "\n",
       "              location            area     price  \\\n",
       "106315   United States   United States  0.172319   \n",
       "97107    United States   United States  0.607910   \n",
       "305695           China           China  2.462049   \n",
       "36184          Belgium         Belgium  1.105088   \n",
       "162306  United Kingdom  United Kingdom  0.700870   \n",
       "\n",
       "                                                 category  \n",
       "106315  drugs-prescription-stimulants-amphetamine-dexe...  \n",
       "97107                                      drugs-cannabis  \n",
       "305695                           drugs-cannabis-synthetic  \n",
       "36184                                               money  \n",
       "162306                                      drugs-ecstasy  "
      ]
     },
     "execution_count": 78,
     "metadata": {},
     "output_type": "execute_result"
    }
   ],
   "source": [
    "df.sample(5)"
   ]
  },
  {
   "cell_type": "code",
   "execution_count": 77,
   "metadata": {},
   "outputs": [],
   "source": [
    "# encode infinite values to missing and restructure. \n",
    "df['price']= df['price'].replace([np.inf, -np.inf], np.nan)\n",
    "df = df.reset_index(drop = True)\n",
    "\n",
    "# safe dataframe\n",
    "df.to_pickle(out_file)"
   ]
  }
 ],
 "metadata": {
  "kernelspec": {
   "display_name": "Python 3",
   "language": "python",
   "name": "python3"
  },
  "language_info": {
   "codemirror_mode": {
    "name": "ipython",
    "version": 3
   },
   "file_extension": ".py",
   "mimetype": "text/x-python",
   "name": "python",
   "nbconvert_exporter": "python",
   "pygments_lexer": "ipython3",
   "version": "3.7.3"
  },
  "varInspector": {
   "cols": {
    "lenName": 16,
    "lenType": 16,
    "lenVar": 40
   },
   "kernels_config": {
    "python": {
     "delete_cmd_postfix": "",
     "delete_cmd_prefix": "del ",
     "library": "var_list.py",
     "varRefreshCmd": "print(var_dic_list())"
    },
    "r": {
     "delete_cmd_postfix": ") ",
     "delete_cmd_prefix": "rm(",
     "library": "var_list.r",
     "varRefreshCmd": "cat(var_dic_list()) "
    }
   },
   "types_to_exclude": [
    "module",
    "function",
    "builtin_function_or_method",
    "instance",
    "_Feature"
   ],
   "window_display": false
  }
 },
 "nbformat": 4,
 "nbformat_minor": 2
}
