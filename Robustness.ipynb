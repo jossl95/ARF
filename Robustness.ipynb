{
 "cells": [
  {
   "cell_type": "markdown",
   "metadata": {},
   "source": [
    "# Robustness Checks"
   ]
  },
  {
   "cell_type": "code",
   "execution_count": 2,
   "metadata": {},
   "outputs": [],
   "source": [
    "import pandas as pd\n",
    "import numpy as np\n",
    "import os\n",
    "\n",
    "import matplotlib.pyplot as plt\n",
    "import matplotlib as mpl \n",
    "\n",
    "mpl.rcParams['figure.dpi']= 200\n",
    "mpl.rcParams['axes.spines.right'] = False\n",
    "mpl.rcParams['axes.spines.top'] = False\n",
    "\n",
    "from skmisc.loess import loess\n",
    "\n",
    "from rpy2.robjects import pandas2ri\n",
    "pandas2ri.activate()\n",
    "\n",
    "%reload_ext rpy2.ipython"
   ]
  },
  {
   "cell_type": "markdown",
   "metadata": {},
   "source": [
    "## Load Data"
   ]
  },
  {
   "cell_type": "code",
   "execution_count": 3,
   "metadata": {},
   "outputs": [],
   "source": [
    "MAINDIR = os.getcwd().rsplit('/', 1)[0]\n",
    "file = os.path.join(MAINDIR, 'data/analysis', 'vendor_item_period.csv')"
   ]
  },
  {
   "cell_type": "code",
   "execution_count": 4,
   "metadata": {},
   "outputs": [],
   "source": [
    "df = pd.read_csv(file, index_col = False)\n",
    "df = df.drop(df.columns[0], axis=1)"
   ]
  },
  {
   "cell_type": "code",
   "execution_count": 5,
   "metadata": {},
   "outputs": [
    {
     "data": {
      "text/plain": [
       "Index(['vendor', 'item', 'w', 'rating_m', 'reputation_m', 'price_usd_m',\n",
       "       'delta_t_m', 'neg_rating_m', 'count_min', 'neg_count_min',\n",
       "       'pos_count_min', 'rtime_dt_min', 'price_usd_s', 'delta_t_s',\n",
       "       'cum_count', 'arf', 'international_shipment', 'item_count',\n",
       "       'item_count_w', 'category_count', 'category_count_w'],\n",
       "      dtype='object')"
      ]
     },
     "execution_count": 5,
     "metadata": {},
     "output_type": "execute_result"
    }
   ],
   "source": [
    "df.columns"
   ]
  },
  {
   "cell_type": "code",
   "execution_count": 28,
   "metadata": {},
   "outputs": [],
   "source": [
    "# make ARM variable\n",
    "t_cut_per_seller = df.groupby('vendor')['delta_t_m'].quantile(.5).to_dict()\n",
    "s_cut_per_seller = df.groupby('vendor')['delta_t_s'].quantile(.5).to_dict()\n",
    "p_cut_per_seller = df.groupby('vendor')['price_usd_m'].quantile(.5).to_dict()\n",
    "t_cut = df['delta_t_m'].quantile(1/2)\n",
    "p_cut = df['price_usd_m'].quantile(1/2)\n",
    "s_cut = df['delta_t_s'].quantile(1/2)\n",
    "\n",
    "arm = df\\\n",
    "    .assign(t_low_s = lambda x: x['delta_t_m'] < x['vendor'].map(t_cut_per_seller),\n",
    "            p_low_s = lambda x: x['price_usd_m'] < x['vendor'].map(p_cut_per_seller),\n",
    "            s_low_s = lambda x: x['delta_t_s'] < x['vendor'].map(s_cut_per_seller))\\\n",
    "    .assign(arm = lambda x: (x[['t_low_s', 'p_low_s', 's_low_s']].all(axis = 1)))\\\n",
    "    .groupby(['vendor', 'w'])['arm'].max().rename('arm_i').reset_index()\n",
    "\n",
    "arm['arm_t'] = df\\\n",
    "    .assign(t_low_s = lambda x: x['delta_t_m'] < x['vendor'].map(t_cut_per_seller),\n",
    "            p_low_s = lambda x: x['price_usd_m'] < x['vendor'].map(p_cut_per_seller),\n",
    "            s_low_s = lambda x: x['delta_t_s'] < x['vendor'].map(s_cut_per_seller),\n",
    "            t_low   = lambda x: x['delta_t_m'] < t_cut)\\\n",
    "    .assign(arm = lambda x: (x[['t_low_s', 'p_low_s', 's_low_s', 't_low']].all(axis = 1)))\\\n",
    "    .groupby(['vendor', 'w'])['arm'].max().reset_index()['arm']\n",
    "\n",
    "arm['arm_p'] = df\\\n",
    "    .assign(t_low_s = lambda x: x['delta_t_m'] < x['vendor'].map(t_cut_per_seller),\n",
    "            p_low_s = lambda x: x['price_usd_m'] < x['vendor'].map(p_cut_per_seller),\n",
    "            s_low_s = lambda x: x['delta_t_s'] < x['vendor'].map(s_cut_per_seller),\n",
    "            p_low   = lambda x: x['price_usd_m'] < p_cut)\\\n",
    "    .assign(arm = lambda x: (x[['t_low_s', 'p_low_s', 's_low_s', 'p_low']].all(axis = 1)))\\\n",
    "    .groupby(['vendor', 'w'])['arm'].max().reset_index()['arm']\n",
    "\n",
    "arm['arm_tp'] = df\\\n",
    "    .assign(t_low_s = lambda x: x['delta_t_m'] < x['vendor'].map(t_cut_per_seller),\n",
    "            p_low_s = lambda x: x['price_usd_m'] < x['vendor'].map(p_cut_per_seller),\n",
    "            s_low_s = lambda x: x['delta_t_s'] < x['vendor'].map(s_cut_per_seller),\n",
    "            t_low   = lambda x: x['delta_t_m'] < t_cut,\n",
    "            p_low   = lambda x: x['price_usd_m'] < p_cut)\\\n",
    "    .assign(arm = lambda x: (x[['t_low_s', 'p_low_s', 's_low_s', 't_low', 'p_low']].all(axis = 1)))\\\n",
    "    .groupby(['vendor', 'w'])['arm'].max().reset_index()['arm']\n",
    "\n",
    "arm['arm_a'] = df\\\n",
    "    .assign(t_low_s = lambda x: x['delta_t_m'] < x['vendor'].map(t_cut_per_seller),\n",
    "            p_low_s = lambda x: x['price_usd_m'] < x['vendor'].map(p_cut_per_seller),\n",
    "            s_low_s = lambda x: x['delta_t_s'] < x['vendor'].map(s_cut_per_seller),\n",
    "            t_low   = lambda x: x['delta_t_m'] < t_cut,\n",
    "            p_low   = lambda x: x['price_usd_m'] < p_cut,\n",
    "            s_low   = lambda x: x['delta_t_s'] < s_cut)\\\n",
    "    .assign(arm = lambda x: (x[['t_low_s', 'p_low_s', 's_low_s', 't_low', 'p_low', 's_low']].all(axis = 1)))\\\n",
    "    .groupby(['vendor', 'w'])['arm'].max().reset_index()['arm']\n",
    "\n",
    "# Shift Dependent variables with one week \n",
    "for col in ['arm_tp', 'arm_p', 'arm_t', 'arm_a', 'arm_i']: \n",
    "    arm['{0}_shift'.format(col)] = arm\\\n",
    "        .groupby('vendor')\\\n",
    "        .apply(lambda x: x[col].shift(1))\\\n",
    "        .reset_index(drop = True)"
   ]
  },
  {
   "cell_type": "markdown",
   "metadata": {},
   "source": [
    "### Merge internal specified ARM with vendor week data"
   ]
  },
  {
   "cell_type": "code",
   "execution_count": 29,
   "metadata": {},
   "outputs": [],
   "source": [
    "# import person week file\n",
    "df = pd.read_pickle(os.path.join(MAINDIR, 'data/analysis', 'vendor_week.pickle'))\n",
    "df = df.merge(df.groupby('vendor')['me_min'].min().rename('me'), on = 'vendor')\n",
    "df = df.rename(columns= {\n",
    "    'international_shipment_count_w': 'int_shipment_count_w', \n",
    "    'international_shipment': 'int_shipment'})"
   ]
  },
  {
   "cell_type": "code",
   "execution_count": 30,
   "metadata": {},
   "outputs": [],
   "source": [
    "df = df.merge(arm, on = ['vendor', 'w'])"
   ]
  },
  {
   "cell_type": "code",
   "execution_count": 32,
   "metadata": {},
   "outputs": [],
   "source": [
    "from sklearn.preprocessing import PowerTransformer\n",
    "pt = PowerTransformer()\n",
    "\n",
    "# normalize variables\n",
    "skewed_variables = [\n",
    "    'neg_count_min', 'pos_count_min', 'neg_count_w', \n",
    "    'neg_count_w_shift', 'pos_count_w', 'pos_count_w_shift', 'sales_volume_w', \n",
    "    'item_count_w', 'int_shipment_count_w']\n",
    "\n",
    "bc_vars = pd.DataFrame(\n",
    "    pt.fit_transform(df[skewed_variables]),\n",
    "    columns = ['bc_' + var for var in skewed_variables])\n",
    "\n",
    "c_vars = df[skewed_variables].add_prefix('c_')\n",
    "\n",
    "dummy_vars = df.assign(\n",
    "        items   = pd.qcut(df['item_count'], 3,  labels=[\"low\", \"medium\", \"high\"]),\n",
    "        items_w = pd.qcut(df['item_count_w'], 3,  labels=[\"low\", \"medium\", \"high\"]),\n",
    "        sales   = pd.qcut(df['cum_count'], 2,  labels=[\"low\", \"high\"]),\n",
    "        sales_w = pd.qcut(df['sales_volume_w'], 2,  labels=[\"low\", \"high\"]))\\\n",
    "    .loc[:,['items', 'items_w', 'sales', 'sales_w']]\n",
    "\n",
    "n_vars = df[['cum_count', 'sales_volume_w', 'item_count', \n",
    "             'item_count_w', 'me', 'int_shipment_count_w',\n",
    "             'empty_stock_last_week_count_w', 'empty_stock_last_week_maxw']].rename({'cum_count': 'sales_volume'})\n",
    "\n",
    "bool_vars = df[\n",
    "    ['arf', 'arm_maxw', 'arm_maxw_shift', 'arm_i', 'arm_a', 'arm_t', 'arm_p', 'arm_tp',\n",
    "     'int_shipment', 'has_price_drop', 'has_price_drop_shift']].astype('int')\n",
    "\n",
    "lev_vars =  df[['vendor','w', 'me_min']]\n",
    "\n",
    "data = pd.concat([lev_vars, bool_vars, bc_vars, c_vars, dummy_vars, n_vars], axis = 1)"
   ]
  },
  {
   "cell_type": "code",
   "execution_count": 33,
   "metadata": {},
   "outputs": [],
   "source": [
    "%%R\n",
    "\n",
    "library('lme4')\n",
    "library('margins')\n",
    "library(\"performance\")\n",
    "library('tidyverse')\n",
    "\n",
    "getICCs <- function(m, type = 'poisson'){\n",
    "  var_s <- as.numeric(getME(m, \"theta\")[1]^2) # seller level variance\n",
    "  var_w <- as.numeric(getME(m, \"theta\")[2]^2) # week level variance\n",
    "  \n",
    "  if(type == 'poisson'){\n",
    "    lambda = .139\n",
    "    alpha <- log(1 + 1/lambda)\n",
    "  }\n",
    "  if(type == 'binomial'){\n",
    "    alpha <- (pi^2) / 3\n",
    "  }\n",
    "  \n",
    "  icc <- list(\n",
    "    s = (var_s)/ (var_s + var_w + alpha),\n",
    "    w = (var_w)/ (var_s + var_w + alpha),\n",
    "    t = (var_s + var_w)/ (var_s + var_w + alpha),\n",
    "    a = (alpha)/ (var_s + var_w + alpha)\n",
    "  )\n",
    "  \n",
    "  return(icc)\n",
    "}"
   ]
  },
  {
   "cell_type": "code",
   "execution_count": 34,
   "metadata": {},
   "outputs": [],
   "source": [
    "%%R -i data\n",
    "\n",
    "data['me_'] <- scale(data$me)[,1]\n",
    "data['w_'] <- scale(data$w)[,1]\n",
    "data['me_2'] <- scale(data$me^2)[,1]\n",
    "data['w_2'] <- scale(data$w^2)[,1]\n",
    "\n",
    "variables = c(\n",
    "    'bc_pos_count_w', 'bc_item_count_w', 'bc_int_shipment_count_w',\n",
    "    'bc_neg_count_w', 'c_neg_count_w', 'c_pos_count_w')\n",
    "\n",
    "for (var in variables){\n",
    "  for (vendor in unique(data$vendor)){\n",
    "    # calculate mean and deviances\n",
    "    x = data[data$vendor == vendor, var]\n",
    "    m = mean(x)\n",
    "    dev = x - m\n",
    "    \n",
    "    # concat information to dataframe\n",
    "    data[data$vendor == vendor, paste(var, \"m\", sep=\".\")] <- m\n",
    "    data[data$vendor == vendor, paste(var, \"dev\", sep=\".\")] <- dev\n",
    "  }\n",
    "}\n",
    "\n",
    "Optimizer <- glmerControl(optimizer = \"bobyqa\",\n",
    "                          optCtrl = list(maxfun=2e5))"
   ]
  },
  {
   "cell_type": "markdown",
   "metadata": {},
   "source": [
    "## Robustness of ARM with internal specification"
   ]
  },
  {
   "cell_type": "markdown",
   "metadata": {},
   "source": [
    "### Internal and external cut-offs"
   ]
  },
  {
   "cell_type": "code",
   "execution_count": 12,
   "metadata": {},
   "outputs": [
    {
     "name": "stdout",
     "output_type": "stream",
     "text": [
      "Generalized linear mixed model fit by maximum likelihood (Laplace\n",
      "  Approximation) [glmerMod]\n",
      " Family: binomial  ( logit )\n",
      "Formula: \n",
      "arm_a ~ arf + bc_neg_count_w.m + bc_neg_count_w.dev + bc_neg_count_w.m:arf +  \n",
      "    bc_neg_count_w.dev:arf + bc_pos_count_w.m + bc_pos_count_w.dev +  \n",
      "    bc_item_count_w.m + bc_item_count_w.dev + bc_int_shipment_count_w.m +  \n",
      "    bc_int_shipment_count_w.dev + me_ + me_2 + w_ + w_2 + (1 |  \n",
      "    vendor) + (1 | w)\n",
      "   Data: data\n",
      "Control: Optimizer\n",
      "\n",
      "     AIC      BIC   logLik deviance df.resid \n",
      "  7585.8   7730.4  -3774.9   7549.8    22759 \n",
      "\n",
      "Scaled residuals: \n",
      "   Min     1Q Median     3Q    Max \n",
      "-3.540 -0.119 -0.026 -0.003 45.636 \n",
      "\n",
      "Random effects:\n",
      " Groups Name        Variance Std.Dev.\n",
      " vendor (Intercept) 2.02745  1.4239  \n",
      " w      (Intercept) 0.03264  0.1807  \n",
      "Number of obs: 22777, groups:  vendor, 902; w, 50\n",
      "\n",
      "Fixed effects:\n",
      "                            Estimate Std. Error z value Pr(>|z|)    \n",
      "(Intercept)                 -6.26886    0.16752 -37.421  < 2e-16 ***\n",
      "arf                          0.39287    0.25801   1.523   0.1278    \n",
      "bc_neg_count_w.m             0.89287    0.15180   5.882 4.06e-09 ***\n",
      "bc_neg_count_w.dev          -0.01048    0.04022  -0.260   0.7945    \n",
      "bc_pos_count_w.m             2.60688    0.21729  11.997  < 2e-16 ***\n",
      "bc_pos_count_w.dev           1.04734    0.07374  14.204  < 2e-16 ***\n",
      "bc_item_count_w.m            1.71491    0.20486   8.371  < 2e-16 ***\n",
      "bc_item_count_w.dev          4.58989    0.18869  24.325  < 2e-16 ***\n",
      "bc_int_shipment_count_w.m   -0.23352    0.10040  -2.326   0.0200 *  \n",
      "bc_int_shipment_count_w.dev  0.34006    0.19119   1.779   0.0753 .  \n",
      "me_                          0.06892    0.21901   0.315   0.7530    \n",
      "me_2                         0.16242    0.20218   0.803   0.4218    \n",
      "w_                          -0.20036    0.16698  -1.200   0.2302    \n",
      "w_2                          0.40510    0.16177   2.504   0.0123 *  \n",
      "arf:bc_neg_count_w.m        -0.36706    0.35533  -1.033   0.3016    \n",
      "arf:bc_neg_count_w.dev       0.03819    0.08333   0.458   0.6467    \n",
      "---\n",
      "Signif. codes:  0 ‘***’ 0.001 ‘**’ 0.01 ‘*’ 0.05 ‘.’ 0.1 ‘ ’ 1\n"
     ]
    },
    {
     "name": "stderr",
     "output_type": "stream",
     "text": [
      "R[write to console]: \n",
      "Correlation matrix not shown by default, as p = 16 > 12.\n",
      "Use print(object, correlation=TRUE)  or\n",
      "    vcov(object)        if you need it\n",
      "\n",
      "\n"
     ]
    }
   ],
   "source": [
    "%%R\n",
    "model = glmer(arm_a ~ arf\n",
    "      + bc_neg_count_w.m\n",
    "      + bc_neg_count_w.dev\n",
    "      + bc_neg_count_w.m:arf\n",
    "      + bc_neg_count_w.dev:arf\n",
    "      + bc_pos_count_w.m\n",
    "      + bc_pos_count_w.dev\n",
    "      + bc_item_count_w.m\n",
    "      + bc_item_count_w.dev\n",
    "      + bc_int_shipment_count_w.m\n",
    "      + bc_int_shipment_count_w.dev\n",
    "      + me_ + me_2 \n",
    "      + w_ + w_2 \n",
    "      + (1 | vendor) + (1 | w),\n",
    "      data, \n",
    "      family = binomial, \n",
    "      control = Optimizer)\n",
    "\n",
    "summary(model)"
   ]
  },
  {
   "cell_type": "code",
   "execution_count": 36,
   "metadata": {},
   "outputs": [
    {
     "name": "stdout",
     "output_type": "stream",
     "text": [
      "Generalized linear mixed model fit by maximum likelihood (Laplace\n",
      "  Approximation) [glmerMod]\n",
      " Family: binomial  ( logit )\n",
      "Formula: \n",
      "arm_p ~ arf + bc_neg_count_w.m + bc_neg_count_w.dev + bc_neg_count_w.m:arf +  \n",
      "    bc_neg_count_w.dev:arf + bc_pos_count_w.m + bc_pos_count_w.dev +  \n",
      "    bc_item_count_w.m + bc_item_count_w.dev + bc_int_shipment_count_w.m +  \n",
      "    bc_int_shipment_count_w.dev + me_ + me_2 + w_ + w_2 + (1 |  \n",
      "    vendor) + (1 | w)\n",
      "   Data: data\n",
      "Control: Optimizer\n",
      "\n",
      "     AIC      BIC   logLik deviance df.resid \n",
      " 12629.3  12773.9  -6296.6  12593.3    22759 \n",
      "\n",
      "Scaled residuals: \n",
      "    Min      1Q  Median      3Q     Max \n",
      "-1.5273 -0.3428 -0.2013 -0.1199 15.7258 \n",
      "\n",
      "Random effects:\n",
      " Groups Name        Variance Std.Dev.\n",
      " vendor (Intercept) 1.25007  1.118   \n",
      " w      (Intercept) 0.03763  0.194   \n",
      "Number of obs: 22777, groups:  vendor, 902; w, 50\n",
      "\n",
      "Fixed effects:\n",
      "                            Estimate Std. Error z value Pr(>|z|)    \n",
      "(Intercept)                 -3.01975    0.06552 -46.088  < 2e-16 ***\n",
      "arf                          0.67895    0.15128   4.488 7.19e-06 ***\n",
      "bc_neg_count_w.m             0.48796    0.09962   4.898 9.66e-07 ***\n",
      "bc_neg_count_w.dev           0.13902    0.03450   4.030 5.58e-05 ***\n",
      "bc_pos_count_w.m             0.22940    0.12496   1.836  0.06638 .  \n",
      "bc_pos_count_w.dev           0.92269    0.05684  16.234  < 2e-16 ***\n",
      "bc_item_count_w.m           -0.39150    0.12201  -3.209  0.00133 ** \n",
      "bc_item_count_w.dev          0.99409    0.08854  11.228  < 2e-16 ***\n",
      "bc_int_shipment_count_w.m   -0.08348    0.06870  -1.215  0.22432    \n",
      "bc_int_shipment_count_w.dev -0.22390    0.15002  -1.493  0.13557    \n",
      "me_                          0.17660    0.14211   1.243  0.21400    \n",
      "me_2                        -0.19537    0.13755  -1.420  0.15549    \n",
      "w_                           0.87040    0.15810   5.505 3.69e-08 ***\n",
      "w_2                         -0.74169    0.15165  -4.891 1.00e-06 ***\n",
      "arf:bc_neg_count_w.m        -0.48991    0.22261  -2.201  0.02775 *  \n",
      "arf:bc_neg_count_w.dev      -0.12631    0.07282  -1.735  0.08279 .  \n",
      "---\n",
      "Signif. codes:  0 ‘***’ 0.001 ‘**’ 0.01 ‘*’ 0.05 ‘.’ 0.1 ‘ ’ 1\n"
     ]
    },
    {
     "name": "stderr",
     "output_type": "stream",
     "text": [
      "R[write to console]: \n",
      "Correlation matrix not shown by default, as p = 16 > 12.\n",
      "Use print(object, correlation=TRUE)  or\n",
      "    vcov(object)        if you need it\n",
      "\n",
      "\n"
     ]
    },
    {
     "name": "stdout",
     "output_type": "stream",
     "text": [
      "convergence code: 0\n",
      "unable to evaluate scaled gradient\n",
      "Model failed to converge: degenerate  Hessian with 1 negative eigenvalues\n",
      "\n"
     ]
    }
   ],
   "source": [
    "%%R\n",
    "model = glmer(arm_p ~ arf\n",
    "      + bc_neg_count_w.m\n",
    "      + bc_neg_count_w.dev\n",
    "      + bc_neg_count_w.m:arf\n",
    "      + bc_neg_count_w.dev:arf\n",
    "      + bc_pos_count_w.m\n",
    "      + bc_pos_count_w.dev\n",
    "      + bc_item_count_w.m\n",
    "      + bc_item_count_w.dev\n",
    "      + bc_int_shipment_count_w.m\n",
    "      + bc_int_shipment_count_w.dev\n",
    "      + me_ + me_2 \n",
    "      + w_ + w_2 \n",
    "      + (1 | vendor) + (1 | w),\n",
    "      data, \n",
    "      family = binomial, \n",
    "      control = Optimizer)\n",
    "\n",
    "summary(model)"
   ]
  },
  {
   "cell_type": "code",
   "execution_count": 35,
   "metadata": {},
   "outputs": [
    {
     "name": "stdout",
     "output_type": "stream",
     "text": [
      "Generalized linear mixed model fit by maximum likelihood (Laplace\n",
      "  Approximation) [glmerMod]\n",
      " Family: binomial  ( logit )\n",
      "Formula: \n",
      "arm_tp ~ arf + bc_neg_count_w.m + bc_neg_count_w.dev + bc_neg_count_w.m:arf +  \n",
      "    bc_neg_count_w.dev:arf + bc_pos_count_w.m + bc_pos_count_w.dev +  \n",
      "    bc_item_count_w.m + bc_item_count_w.dev + bc_int_shipment_count_w.m +  \n",
      "    bc_int_shipment_count_w.dev + me_ + me_2 + w_ + w_2 + (1 |  \n",
      "    vendor) + (1 | w)\n",
      "   Data: data\n",
      "Control: Optimizer\n",
      "\n",
      "     AIC      BIC   logLik deviance df.resid \n",
      "  9016.9   9161.5  -4490.4   8980.9    22759 \n",
      "\n",
      "Scaled residuals: \n",
      "    Min      1Q  Median      3Q     Max \n",
      "-1.8650 -0.2449 -0.1109 -0.0548 19.1832 \n",
      "\n",
      "Random effects:\n",
      " Groups Name        Variance Std.Dev.\n",
      " vendor (Intercept) 2.29734  1.516   \n",
      " w      (Intercept) 0.05476  0.234   \n",
      "Number of obs: 22777, groups:  vendor, 902; w, 50\n",
      "\n",
      "Fixed effects:\n",
      "                            Estimate Std. Error z value Pr(>|z|)    \n",
      "(Intercept)                 -4.23575    0.11393 -37.178  < 2e-16 ***\n",
      "arf                          0.97126    0.21335   4.552 5.30e-06 ***\n",
      "bc_neg_count_w.m             0.86403    0.14348   6.022 1.72e-09 ***\n",
      "bc_neg_count_w.dev           0.16707    0.04096   4.079 4.53e-05 ***\n",
      "bc_pos_count_w.m             1.48106    0.18559   7.980 1.46e-15 ***\n",
      "bc_pos_count_w.dev           1.06810    0.07559  14.131  < 2e-16 ***\n",
      "bc_item_count_w.m           -0.44109    0.17111  -2.578  0.00994 ** \n",
      "bc_item_count_w.dev          1.31037    0.12467  10.511  < 2e-16 ***\n",
      "bc_int_shipment_count_w.m   -0.23005    0.09653  -2.383  0.01716 *  \n",
      "bc_int_shipment_count_w.dev -0.35782    0.18943  -1.889  0.05890 .  \n",
      "me_                          0.27239    0.21618   1.260  0.20767    \n",
      "me_2                        -0.43116    0.22315  -1.932  0.05334 .  \n",
      "w_                           0.98332    0.19275   5.102 3.37e-07 ***\n",
      "w_2                         -0.84833    0.18362  -4.620 3.84e-06 ***\n",
      "arf:bc_neg_count_w.m        -1.00561    0.30766  -3.269  0.00108 ** \n",
      "arf:bc_neg_count_w.dev      -0.17120    0.07987  -2.144  0.03206 *  \n",
      "---\n",
      "Signif. codes:  0 ‘***’ 0.001 ‘**’ 0.01 ‘*’ 0.05 ‘.’ 0.1 ‘ ’ 1\n"
     ]
    },
    {
     "name": "stderr",
     "output_type": "stream",
     "text": [
      "R[write to console]: \n",
      "Correlation matrix not shown by default, as p = 16 > 12.\n",
      "Use print(object, correlation=TRUE)  or\n",
      "    vcov(object)        if you need it\n",
      "\n",
      "\n"
     ]
    }
   ],
   "source": [
    "%%R\n",
    "model = glmer(arm_tp ~ arf\n",
    "      + bc_neg_count_w.m\n",
    "      + bc_neg_count_w.dev\n",
    "      + bc_neg_count_w.m:arf\n",
    "      + bc_neg_count_w.dev:arf\n",
    "      + bc_pos_count_w.m\n",
    "      + bc_pos_count_w.dev\n",
    "      + bc_item_count_w.m\n",
    "      + bc_item_count_w.dev\n",
    "      + bc_int_shipment_count_w.m\n",
    "      + bc_int_shipment_count_w.dev\n",
    "      + me_ + me_2 \n",
    "      + w_ + w_2 \n",
    "      + (1 | vendor) + (1 | w),\n",
    "      data, \n",
    "      family = binomial, \n",
    "      control = Optimizer)\n",
    "\n",
    "summary(model)"
   ]
  },
  {
   "cell_type": "markdown",
   "metadata": {},
   "source": [
    "### Optimized operationalization of ARM\n",
    "- excluding cutoff for overall selling price\n",
    "    - this assumes that sellers definition of cheap is internally defined\n",
    "- excluding cutoff for overall standard deviation of delta time\n",
    "    - this assumes that the staticity of reputation inflation is internally defined"
   ]
  },
  {
   "cell_type": "code",
   "execution_count": 24,
   "metadata": {},
   "outputs": [
    {
     "name": "stdout",
     "output_type": "stream",
     "text": [
      "Generalized linear mixed model fit by maximum likelihood (Laplace\n",
      "  Approximation) [glmerMod]\n",
      " Family: binomial  ( logit )\n",
      "Formula: \n",
      "arm_o ~ arf + bc_neg_count_w.m + bc_neg_count_w.dev + bc_neg_count_w.m:arf +  \n",
      "    bc_neg_count_w.dev:arf + bc_pos_count_w.m + bc_pos_count_w.dev +  \n",
      "    bc_item_count_w.m + bc_item_count_w.dev + bc_int_shipment_count_w.m +  \n",
      "    bc_int_shipment_count_w.dev + me_ + me_2 + w_ + w_2 + (1 |  \n",
      "    vendor) + (1 | w)\n",
      "   Data: data\n",
      "Control: Optimizer\n",
      "\n",
      "     AIC      BIC   logLik deviance df.resid \n",
      "  9469.7   9614.3  -4716.9   9433.7    22759 \n",
      "\n",
      "Scaled residuals: \n",
      "    Min      1Q  Median      3Q     Max \n",
      "-1.8077 -0.2573 -0.1352 -0.0773 23.2620 \n",
      "\n",
      "Random effects:\n",
      " Groups Name        Variance Std.Dev.\n",
      " vendor (Intercept) 1.70934  1.3074  \n",
      " w      (Intercept) 0.05802  0.2409  \n",
      "Number of obs: 22777, groups:  vendor, 902; w, 50\n",
      "\n",
      "Fixed effects:\n",
      "                            Estimate Std. Error z value Pr(>|z|)    \n",
      "(Intercept)                 -3.85436    0.09639 -39.988  < 2e-16 ***\n",
      "arf                          0.72593    0.18782   3.865 0.000111 ***\n",
      "bc_neg_count_w.m             0.62408    0.12603   4.952 7.35e-07 ***\n",
      "bc_neg_count_w.dev           0.17670    0.04021   4.395 1.11e-05 ***\n",
      "bc_pos_count_w.m             1.25996    0.16134   7.809 5.75e-15 ***\n",
      "bc_pos_count_w.dev           1.11660    0.07322  15.250  < 2e-16 ***\n",
      "bc_item_count_w.m           -0.67360    0.15098  -4.461 8.14e-06 ***\n",
      "bc_item_count_w.dev          0.94448    0.11512   8.204 2.32e-16 ***\n",
      "bc_int_shipment_count_w.m   -0.11529    0.08455  -1.364 0.172712    \n",
      "bc_int_shipment_count_w.dev -0.40095    0.18037  -2.223 0.026223 *  \n",
      "me_                          0.31620    0.18662   1.694 0.090203 .  \n",
      "me_2                        -0.42600    0.19144  -2.225 0.026062 *  \n",
      "w_                           1.02434    0.19302   5.307 1.12e-07 ***\n",
      "w_2                         -0.88365    0.18342  -4.818 1.45e-06 ***\n",
      "arf:bc_neg_count_w.m        -0.60913    0.27166  -2.242 0.024947 *  \n",
      "arf:bc_neg_count_w.dev      -0.20760    0.07948  -2.612 0.009004 ** \n",
      "---\n",
      "Signif. codes:  0 ‘***’ 0.001 ‘**’ 0.01 ‘*’ 0.05 ‘.’ 0.1 ‘ ’ 1\n"
     ]
    },
    {
     "name": "stderr",
     "output_type": "stream",
     "text": [
      "R[write to console]: \n",
      "Correlation matrix not shown by default, as p = 16 > 12.\n",
      "Use print(object, correlation=TRUE)  or\n",
      "    vcov(object)        if you need it\n",
      "\n",
      "\n"
     ]
    }
   ],
   "source": [
    "%%R\n",
    "model = glmer(arm_t ~ arf\n",
    "      + bc_neg_count_w.m\n",
    "      + bc_neg_count_w.dev\n",
    "      + bc_neg_count_w.m:arf\n",
    "      + bc_neg_count_w.dev:arf\n",
    "      + bc_pos_count_w.m\n",
    "      + bc_pos_count_w.dev\n",
    "      + bc_item_count_w.m\n",
    "      + bc_item_count_w.dev\n",
    "      + bc_int_shipment_count_w.m\n",
    "      + bc_int_shipment_count_w.dev\n",
    "      + me_ + me_2 \n",
    "      + w_ + w_2 \n",
    "      + (1 | vendor) + (1 | w),\n",
    "      data, \n",
    "      family = binomial, \n",
    "      control = Optimizer)\n",
    "\n",
    "summary(model)"
   ]
  },
  {
   "cell_type": "code",
   "execution_count": 14,
   "metadata": {},
   "outputs": [
    {
     "name": "stdout",
     "output_type": "stream",
     "text": [
      "Generalized linear mixed model fit by maximum likelihood (Laplace\n",
      "  Approximation) [glmerMod]\n",
      " Family: binomial  ( logit )\n",
      "Formula: \n",
      "arm_i ~ arf + bc_neg_count_w.m + bc_neg_count_w.dev + bc_neg_count_w.m:arf +  \n",
      "    bc_neg_count_w.dev:arf + bc_pos_count_w.m + bc_pos_count_w.dev +  \n",
      "    bc_item_count_w.m + bc_item_count_w.dev + bc_int_shipment_count_w.m +  \n",
      "    bc_int_shipment_count_w.dev + me_ + me_2 + w_ + w_2 + (1 |  \n",
      "    vendor) + (1 | w)\n",
      "   Data: data\n",
      "Control: Optimizer\n",
      "\n",
      "     AIC      BIC   logLik deviance df.resid \n",
      " 20489.6  20634.2 -10226.8  20453.6    22759 \n",
      "\n",
      "Scaled residuals: \n",
      "    Min      1Q  Median      3Q     Max \n",
      "-35.267  -0.508  -0.095   0.535  39.719 \n",
      "\n",
      "Random effects:\n",
      " Groups Name        Variance Std.Dev.\n",
      " vendor (Intercept) 1.20699  1.0986  \n",
      " w      (Intercept) 0.02409  0.1552  \n",
      "Number of obs: 22777, groups:  vendor, 902; w, 50\n",
      "\n",
      "Fixed effects:\n",
      "                             Estimate Std. Error z value Pr(>|z|)    \n",
      "(Intercept)                 -1.165494   0.057155 -20.392  < 2e-16 ***\n",
      "arf                         -0.081796   0.142641  -0.573 0.566347    \n",
      "bc_neg_count_w.m             0.280201   0.086244   3.249 0.001158 ** \n",
      "bc_neg_count_w.dev           0.009711   0.024637   0.394 0.693445    \n",
      "bc_pos_count_w.m             1.159605   0.111702  10.381  < 2e-16 ***\n",
      "bc_pos_count_w.dev           0.993127   0.038760  25.622  < 2e-16 ***\n",
      "bc_item_count_w.m            0.249973   0.107600   2.323 0.020170 *  \n",
      "bc_item_count_w.dev          3.740675   0.087828  42.591  < 2e-16 ***\n",
      "bc_int_shipment_count_w.m   -0.154768   0.059898  -2.584 0.009769 ** \n",
      "bc_int_shipment_count_w.dev  0.419863   0.118770   3.535 0.000408 ***\n",
      "me_                         -0.079886   0.120911  -0.661 0.508804    \n",
      "me_2                         0.174636   0.110966   1.574 0.115538    \n",
      "w_                           0.121605   0.116739   1.042 0.297558    \n",
      "w_2                         -0.034944   0.111425  -0.314 0.753819    \n",
      "arf:bc_neg_count_w.m        -0.366571   0.208691  -1.757 0.078998 .  \n",
      "arf:bc_neg_count_w.dev      -0.012748   0.058243  -0.219 0.826750    \n",
      "---\n",
      "Signif. codes:  0 ‘***’ 0.001 ‘**’ 0.01 ‘*’ 0.05 ‘.’ 0.1 ‘ ’ 1\n"
     ]
    },
    {
     "name": "stderr",
     "output_type": "stream",
     "text": [
      "R[write to console]: \n",
      "Correlation matrix not shown by default, as p = 16 > 12.\n",
      "Use print(object, correlation=TRUE)  or\n",
      "    vcov(object)        if you need it\n",
      "\n",
      "\n"
     ]
    }
   ],
   "source": [
    "%%R\n",
    "model = glmer(arm_i ~ arf\n",
    "      + bc_neg_count_w.m\n",
    "      + bc_neg_count_w.dev\n",
    "      + bc_neg_count_w.m:arf\n",
    "      + bc_neg_count_w.dev:arf\n",
    "      + bc_pos_count_w.m\n",
    "      + bc_pos_count_w.dev\n",
    "      + bc_item_count_w.m\n",
    "      + bc_item_count_w.dev\n",
    "      + bc_int_shipment_count_w.m\n",
    "      + bc_int_shipment_count_w.dev\n",
    "      + me_ + me_2 \n",
    "      + w_ + w_2 \n",
    "      + (1 | vendor) + (1 | w),\n",
    "      data, \n",
    "      family = binomial, \n",
    "      control = Optimizer)\n",
    "\n",
    "summary(model)"
   ]
  },
  {
   "cell_type": "code",
   "execution_count": 39,
   "metadata": {},
   "outputs": [
    {
     "data": {
      "text/plain": [
       "0.06273872766387145"
      ]
     },
     "execution_count": 39,
     "metadata": {},
     "output_type": "execute_result"
    }
   ],
   "source": [
    "data['arm_a'].m"
   ]
  },
  {
   "cell_type": "code",
   "execution_count": null,
   "metadata": {},
   "outputs": [],
   "source": []
  }
 ],
 "metadata": {
  "kernelspec": {
   "display_name": "Python 3",
   "language": "python",
   "name": "python3"
  },
  "varInspector": {
   "cols": {
    "lenName": 16,
    "lenType": 16,
    "lenVar": 40
   },
   "kernels_config": {
    "python": {
     "delete_cmd_postfix": "",
     "delete_cmd_prefix": "del ",
     "library": "var_list.py",
     "varRefreshCmd": "print(var_dic_list())"
    },
    "r": {
     "delete_cmd_postfix": ") ",
     "delete_cmd_prefix": "rm(",
     "library": "var_list.r",
     "varRefreshCmd": "cat(var_dic_list()) "
    }
   },
   "types_to_exclude": [
    "module",
    "function",
    "builtin_function_or_method",
    "instance",
    "_Feature"
   ],
   "window_display": false
  }
 },
 "nbformat": 4,
 "nbformat_minor": 2
}
